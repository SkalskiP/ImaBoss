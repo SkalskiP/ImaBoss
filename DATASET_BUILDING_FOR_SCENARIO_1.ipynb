{
 "cells": [
  {
   "cell_type": "markdown",
   "metadata": {},
   "source": [
    "# DATASET_BUILDING_FOR_SCENARIO_1\n",
    "---\n",
    "**10.05.2019**"
   ]
  },
  {
   "cell_type": "markdown",
   "metadata": {},
   "source": [
    "## 1. Imports"
   ]
  },
  {
   "cell_type": "code",
   "execution_count": 1,
   "metadata": {},
   "outputs": [],
   "source": [
    "import numpy as np\n",
    "import pandas as pd\n",
    "from pprint import pprint\n",
    "import pickle"
   ]
  },
  {
   "cell_type": "markdown",
   "metadata": {},
   "source": [
    "## 2. Settings"
   ]
  },
  {
   "cell_type": "code",
   "execution_count": 29,
   "metadata": {},
   "outputs": [],
   "source": [
    "# BITALINO\n",
    "\n",
    "BITALINO_COLUMNS_TO_USE = [5, 6]\n",
    "BITALINO_COLUMN_NAMES = [\n",
    "    \"EKG\", \n",
    "    \"GSR\"\n",
    "]\n",
    "BITALINO_SAMPLING_RATE_PER_SEC = 1000\n",
    "\n",
    "# PROCEDURE\n",
    "\n",
    "PROCEDURE_COLUMNS_TO_USE = [2, 3, 4, 5, 6, 7, 8, 9]\n",
    "PROCEDURE_COLUMN_NAMES = [\n",
    "    \"CONDITION\",\n",
    "    \"SPEC_CONDITION\",\n",
    "    \"SOUND_NUM\",\n",
    "    \"IMAGE_NUM\",\n",
    "    \"WIDGET_TYPE\",\n",
    "    \"WIDGET_RESPONSE\",\n",
    "    \"RESPONSE_TIME\",\n",
    "    \"TIMESTAMP\"\n",
    "]\n",
    "\n",
    "# FILE MAP\n",
    "\n",
    "FILE_MAP_NAME = \"file_map\""
   ]
  },
  {
   "cell_type": "markdown",
   "metadata": {},
   "source": [
    "## 3. Loading of general data"
   ]
  },
  {
   "cell_type": "code",
   "execution_count": 12,
   "metadata": {},
   "outputs": [],
   "source": [
    "IAPS_data = pd.read_csv(\"./data/IAPS.csv\",sep=\";\")\n",
    "IADS2_data = pd.read_csv(\"./data/IADS2.csv\",sep=\";\")\n",
    "NEOFFI_data = pd.read_csv(\"./data/NEO-FFI.txt\",sep=\"\\t\")"
   ]
  },
  {
   "cell_type": "markdown",
   "metadata": {},
   "source": [
    "## 4. General data preprocessing"
   ]
  },
  {
   "cell_type": "markdown",
   "metadata": {},
   "source": [
    "### 4.1. IPAS"
   ]
  },
  {
   "cell_type": "code",
   "execution_count": 13,
   "metadata": {},
   "outputs": [],
   "source": [
    "def preprocess_IAPS(data):\n",
    "# Convert to int and if it fails, delete the row\n",
    "    data['IAPS'] = pd.to_numeric(data['IAPS'], errors='coerce')\n",
    "    data = data.dropna(subset=['IAPS'])\n",
    "    data['IAPS'] = data['IAPS'].astype('int')\n",
    "\n",
    "    data['ValenceMean'] = data['ValenceMean'].apply(lambda x: x.replace(',','.')).astype(float)\n",
    "    data['ValenceSD'] = data['ValenceSD'].apply(lambda x: x.replace(',','.')).astype(float)\n",
    "    data['ArousalMean'] = data['ArousalMean'].apply(lambda x: x.replace(',','.')).astype(float)\n",
    "    data['ArousalSD'] = data['ArousalSD'].apply(lambda x: x.replace(',','.')).astype(float)\n",
    "    return data.drop([\"Description\", \"set\"], axis=1)"
   ]
  },
  {
   "cell_type": "code",
   "execution_count": 14,
   "metadata": {},
   "outputs": [
    {
     "name": "stderr",
     "output_type": "stream",
     "text": [
      "/home/skalskip/Documents/REPOS/ImaBoss/.env/lib/python3.6/site-packages/ipykernel_launcher.py:5: SettingWithCopyWarning: \n",
      "A value is trying to be set on a copy of a slice from a DataFrame.\n",
      "Try using .loc[row_indexer,col_indexer] = value instead\n",
      "\n",
      "See the caveats in the documentation: http://pandas.pydata.org/pandas-docs/stable/indexing.html#indexing-view-versus-copy\n",
      "  \"\"\"\n",
      "/home/skalskip/Documents/REPOS/ImaBoss/.env/lib/python3.6/site-packages/ipykernel_launcher.py:7: SettingWithCopyWarning: \n",
      "A value is trying to be set on a copy of a slice from a DataFrame.\n",
      "Try using .loc[row_indexer,col_indexer] = value instead\n",
      "\n",
      "See the caveats in the documentation: http://pandas.pydata.org/pandas-docs/stable/indexing.html#indexing-view-versus-copy\n",
      "  import sys\n",
      "/home/skalskip/Documents/REPOS/ImaBoss/.env/lib/python3.6/site-packages/ipykernel_launcher.py:8: SettingWithCopyWarning: \n",
      "A value is trying to be set on a copy of a slice from a DataFrame.\n",
      "Try using .loc[row_indexer,col_indexer] = value instead\n",
      "\n",
      "See the caveats in the documentation: http://pandas.pydata.org/pandas-docs/stable/indexing.html#indexing-view-versus-copy\n",
      "  \n",
      "/home/skalskip/Documents/REPOS/ImaBoss/.env/lib/python3.6/site-packages/ipykernel_launcher.py:9: SettingWithCopyWarning: \n",
      "A value is trying to be set on a copy of a slice from a DataFrame.\n",
      "Try using .loc[row_indexer,col_indexer] = value instead\n",
      "\n",
      "See the caveats in the documentation: http://pandas.pydata.org/pandas-docs/stable/indexing.html#indexing-view-versus-copy\n",
      "  if __name__ == '__main__':\n",
      "/home/skalskip/Documents/REPOS/ImaBoss/.env/lib/python3.6/site-packages/ipykernel_launcher.py:10: SettingWithCopyWarning: \n",
      "A value is trying to be set on a copy of a slice from a DataFrame.\n",
      "Try using .loc[row_indexer,col_indexer] = value instead\n",
      "\n",
      "See the caveats in the documentation: http://pandas.pydata.org/pandas-docs/stable/indexing.html#indexing-view-versus-copy\n",
      "  # Remove the CWD from sys.path while we load stuff.\n"
     ]
    }
   ],
   "source": [
    "IPAS = preprocess_IAPS(IAPS_data)"
   ]
  },
  {
   "cell_type": "code",
   "execution_count": 15,
   "metadata": {},
   "outputs": [
    {
     "data": {
      "text/html": [
       "<div>\n",
       "<style scoped>\n",
       "    .dataframe tbody tr th:only-of-type {\n",
       "        vertical-align: middle;\n",
       "    }\n",
       "\n",
       "    .dataframe tbody tr th {\n",
       "        vertical-align: top;\n",
       "    }\n",
       "\n",
       "    .dataframe thead th {\n",
       "        text-align: right;\n",
       "    }\n",
       "</style>\n",
       "<table border=\"1\" class=\"dataframe\">\n",
       "  <thead>\n",
       "    <tr style=\"text-align: right;\">\n",
       "      <th></th>\n",
       "      <th>IAPS</th>\n",
       "      <th>ValenceMean</th>\n",
       "      <th>ValenceSD</th>\n",
       "      <th>ArousalMean</th>\n",
       "      <th>ArousalSD</th>\n",
       "    </tr>\n",
       "  </thead>\n",
       "  <tbody>\n",
       "    <tr>\n",
       "      <th>0</th>\n",
       "      <td>1019</td>\n",
       "      <td>3.95</td>\n",
       "      <td>1.96</td>\n",
       "      <td>5.77</td>\n",
       "      <td>1.83</td>\n",
       "    </tr>\n",
       "    <tr>\n",
       "      <th>1</th>\n",
       "      <td>1022</td>\n",
       "      <td>4.26</td>\n",
       "      <td>2.04</td>\n",
       "      <td>6.02</td>\n",
       "      <td>1.97</td>\n",
       "    </tr>\n",
       "    <tr>\n",
       "      <th>2</th>\n",
       "      <td>1026</td>\n",
       "      <td>4.09</td>\n",
       "      <td>1.91</td>\n",
       "      <td>5.61</td>\n",
       "      <td>2.23</td>\n",
       "    </tr>\n",
       "    <tr>\n",
       "      <th>3</th>\n",
       "      <td>1030</td>\n",
       "      <td>4.30</td>\n",
       "      <td>2.35</td>\n",
       "      <td>5.46</td>\n",
       "      <td>2.43</td>\n",
       "    </tr>\n",
       "    <tr>\n",
       "      <th>4</th>\n",
       "      <td>1033</td>\n",
       "      <td>3.87</td>\n",
       "      <td>1.94</td>\n",
       "      <td>6.13</td>\n",
       "      <td>2.15</td>\n",
       "    </tr>\n",
       "  </tbody>\n",
       "</table>\n",
       "</div>"
      ],
      "text/plain": [
       "   IAPS  ValenceMean  ValenceSD  ArousalMean  ArousalSD\n",
       "0  1019         3.95       1.96         5.77       1.83\n",
       "1  1022         4.26       2.04         6.02       1.97\n",
       "2  1026         4.09       1.91         5.61       2.23\n",
       "3  1030         4.30       2.35         5.46       2.43\n",
       "4  1033         3.87       1.94         6.13       2.15"
      ]
     },
     "execution_count": 15,
     "metadata": {},
     "output_type": "execute_result"
    }
   ],
   "source": [
    "IPAS.head()"
   ]
  },
  {
   "cell_type": "code",
   "execution_count": 16,
   "metadata": {},
   "outputs": [
    {
     "name": "stdout",
     "output_type": "stream",
     "text": [
      "<class 'pandas.core.frame.DataFrame'>\n",
      "Int64Index: 1171 entries, 0 to 1193\n",
      "Data columns (total 5 columns):\n",
      "IAPS           1171 non-null int64\n",
      "ValenceMean    1171 non-null float64\n",
      "ValenceSD      1171 non-null float64\n",
      "ArousalMean    1171 non-null float64\n",
      "ArousalSD      1171 non-null float64\n",
      "dtypes: float64(4), int64(1)\n",
      "memory usage: 54.9 KB\n"
     ]
    }
   ],
   "source": [
    "IPAS.info()"
   ]
  },
  {
   "cell_type": "markdown",
   "metadata": {},
   "source": [
    "### 4.2. IADS2"
   ]
  },
  {
   "cell_type": "code",
   "execution_count": 17,
   "metadata": {},
   "outputs": [],
   "source": [
    "def preprocess_IADS2(data):\n",
    "    return data.drop([\"Sound\"], axis=1)"
   ]
  },
  {
   "cell_type": "code",
   "execution_count": 18,
   "metadata": {},
   "outputs": [],
   "source": [
    "IADS2 = preprocess_IADS2(IADS2_data)"
   ]
  },
  {
   "cell_type": "code",
   "execution_count": 19,
   "metadata": {},
   "outputs": [
    {
     "data": {
      "text/html": [
       "<div>\n",
       "<style scoped>\n",
       "    .dataframe tbody tr th:only-of-type {\n",
       "        vertical-align: middle;\n",
       "    }\n",
       "\n",
       "    .dataframe tbody tr th {\n",
       "        vertical-align: top;\n",
       "    }\n",
       "\n",
       "    .dataframe thead th {\n",
       "        text-align: right;\n",
       "    }\n",
       "</style>\n",
       "<table border=\"1\" class=\"dataframe\">\n",
       "  <thead>\n",
       "    <tr style=\"text-align: right;\">\n",
       "      <th></th>\n",
       "      <th>Number</th>\n",
       "      <th>ValenceMean</th>\n",
       "      <th>ValenceSD</th>\n",
       "      <th>ArousalMean</th>\n",
       "      <th>ArousalSD</th>\n",
       "    </tr>\n",
       "  </thead>\n",
       "  <tbody>\n",
       "    <tr>\n",
       "      <th>0</th>\n",
       "      <td>102</td>\n",
       "      <td>4.63</td>\n",
       "      <td>2.17</td>\n",
       "      <td>4.91</td>\n",
       "      <td>1.97</td>\n",
       "    </tr>\n",
       "    <tr>\n",
       "      <th>1</th>\n",
       "      <td>104</td>\n",
       "      <td>4.96</td>\n",
       "      <td>1.68</td>\n",
       "      <td>5.37</td>\n",
       "      <td>1.66</td>\n",
       "    </tr>\n",
       "    <tr>\n",
       "      <th>2</th>\n",
       "      <td>105</td>\n",
       "      <td>2.88</td>\n",
       "      <td>2.14</td>\n",
       "      <td>6.40</td>\n",
       "      <td>2.13</td>\n",
       "    </tr>\n",
       "    <tr>\n",
       "      <th>3</th>\n",
       "      <td>106</td>\n",
       "      <td>3.37</td>\n",
       "      <td>1.64</td>\n",
       "      <td>6.39</td>\n",
       "      <td>1.62</td>\n",
       "    </tr>\n",
       "    <tr>\n",
       "      <th>4</th>\n",
       "      <td>107</td>\n",
       "      <td>5.47</td>\n",
       "      <td>2.22</td>\n",
       "      <td>5.85</td>\n",
       "      <td>1.81</td>\n",
       "    </tr>\n",
       "  </tbody>\n",
       "</table>\n",
       "</div>"
      ],
      "text/plain": [
       "   Number  ValenceMean  ValenceSD  ArousalMean  ArousalSD\n",
       "0     102         4.63       2.17         4.91       1.97\n",
       "1     104         4.96       1.68         5.37       1.66\n",
       "2     105         2.88       2.14         6.40       2.13\n",
       "3     106         3.37       1.64         6.39       1.62\n",
       "4     107         5.47       2.22         5.85       1.81"
      ]
     },
     "execution_count": 19,
     "metadata": {},
     "output_type": "execute_result"
    }
   ],
   "source": [
    "IADS2.head()"
   ]
  },
  {
   "cell_type": "code",
   "execution_count": 20,
   "metadata": {},
   "outputs": [
    {
     "name": "stdout",
     "output_type": "stream",
     "text": [
      "<class 'pandas.core.frame.DataFrame'>\n",
      "RangeIndex: 167 entries, 0 to 166\n",
      "Data columns (total 5 columns):\n",
      "Number         167 non-null int64\n",
      "ValenceMean    167 non-null float64\n",
      "ValenceSD      167 non-null float64\n",
      "ArousalMean    167 non-null float64\n",
      "ArousalSD      167 non-null float64\n",
      "dtypes: float64(4), int64(1)\n",
      "memory usage: 6.6 KB\n"
     ]
    }
   ],
   "source": [
    "IADS2.info()"
   ]
  },
  {
   "cell_type": "markdown",
   "metadata": {},
   "source": [
    "### 4.3. Personality questionnaire results"
   ]
  },
  {
   "cell_type": "code",
   "execution_count": 21,
   "metadata": {},
   "outputs": [],
   "source": [
    "def preprocess_NEOFFI(data):\n",
    "    data[\"SEX\"] = data[\"SEX\"].apply(lambda x: x==\"M\").astype(int)\n",
    "    return data"
   ]
  },
  {
   "cell_type": "code",
   "execution_count": 22,
   "metadata": {},
   "outputs": [],
   "source": [
    "NEOFFI = preprocess_NEOFFI(NEOFFI_data)"
   ]
  },
  {
   "cell_type": "code",
   "execution_count": 23,
   "metadata": {},
   "outputs": [
    {
     "data": {
      "text/html": [
       "<div>\n",
       "<style scoped>\n",
       "    .dataframe tbody tr th:only-of-type {\n",
       "        vertical-align: middle;\n",
       "    }\n",
       "\n",
       "    .dataframe tbody tr th {\n",
       "        vertical-align: top;\n",
       "    }\n",
       "\n",
       "    .dataframe thead th {\n",
       "        text-align: right;\n",
       "    }\n",
       "</style>\n",
       "<table border=\"1\" class=\"dataframe\">\n",
       "  <thead>\n",
       "    <tr style=\"text-align: right;\">\n",
       "      <th></th>\n",
       "      <th>ID</th>\n",
       "      <th>AGE</th>\n",
       "      <th>SEX</th>\n",
       "      <th>OTW</th>\n",
       "      <th>SUM</th>\n",
       "      <th>NEU</th>\n",
       "      <th>UGD</th>\n",
       "      <th>EKST</th>\n",
       "    </tr>\n",
       "  </thead>\n",
       "  <tbody>\n",
       "    <tr>\n",
       "      <th>0</th>\n",
       "      <td>1107</td>\n",
       "      <td>21</td>\n",
       "      <td>0</td>\n",
       "      <td>4</td>\n",
       "      <td>6</td>\n",
       "      <td>3</td>\n",
       "      <td>4</td>\n",
       "      <td>10</td>\n",
       "    </tr>\n",
       "    <tr>\n",
       "      <th>1</th>\n",
       "      <td>1153</td>\n",
       "      <td>22</td>\n",
       "      <td>0</td>\n",
       "      <td>5</td>\n",
       "      <td>3</td>\n",
       "      <td>8</td>\n",
       "      <td>3</td>\n",
       "      <td>8</td>\n",
       "    </tr>\n",
       "    <tr>\n",
       "      <th>2</th>\n",
       "      <td>1233</td>\n",
       "      <td>21</td>\n",
       "      <td>0</td>\n",
       "      <td>6</td>\n",
       "      <td>8</td>\n",
       "      <td>2</td>\n",
       "      <td>10</td>\n",
       "      <td>7</td>\n",
       "    </tr>\n",
       "    <tr>\n",
       "      <th>3</th>\n",
       "      <td>1400</td>\n",
       "      <td>22</td>\n",
       "      <td>1</td>\n",
       "      <td>4</td>\n",
       "      <td>6</td>\n",
       "      <td>6</td>\n",
       "      <td>6</td>\n",
       "      <td>5</td>\n",
       "    </tr>\n",
       "    <tr>\n",
       "      <th>4</th>\n",
       "      <td>1402</td>\n",
       "      <td>27</td>\n",
       "      <td>0</td>\n",
       "      <td>9</td>\n",
       "      <td>7</td>\n",
       "      <td>7</td>\n",
       "      <td>4</td>\n",
       "      <td>7</td>\n",
       "    </tr>\n",
       "  </tbody>\n",
       "</table>\n",
       "</div>"
      ],
      "text/plain": [
       "     ID  AGE  SEX  OTW  SUM  NEU  UGD  EKST\n",
       "0  1107   21    0    4    6    3    4    10\n",
       "1  1153   22    0    5    3    8    3     8\n",
       "2  1233   21    0    6    8    2   10     7\n",
       "3  1400   22    1    4    6    6    6     5\n",
       "4  1402   27    0    9    7    7    4     7"
      ]
     },
     "execution_count": 23,
     "metadata": {},
     "output_type": "execute_result"
    }
   ],
   "source": [
    "NEOFFI.head()"
   ]
  },
  {
   "cell_type": "code",
   "execution_count": 24,
   "metadata": {},
   "outputs": [
    {
     "name": "stdout",
     "output_type": "stream",
     "text": [
      "<class 'pandas.core.frame.DataFrame'>\n",
      "RangeIndex: 79 entries, 0 to 78\n",
      "Data columns (total 8 columns):\n",
      "ID      79 non-null int64\n",
      "AGE     79 non-null int64\n",
      "SEX     79 non-null int64\n",
      "OTW     79 non-null int64\n",
      "SUM     79 non-null int64\n",
      "NEU     79 non-null int64\n",
      "UGD     79 non-null int64\n",
      "EKST    79 non-null int64\n",
      "dtypes: int64(8)\n",
      "memory usage: 5.0 KB\n"
     ]
    }
   ],
   "source": [
    "NEOFFI.info()"
   ]
  },
  {
   "cell_type": "markdown",
   "metadata": {},
   "source": [
    "### 5. Loading of raw data"
   ]
  },
  {
   "cell_type": "markdown",
   "metadata": {},
   "source": [
    "### 5.1. Auxiliary functions"
   ]
  },
  {
   "cell_type": "code",
   "execution_count": 25,
   "metadata": {},
   "outputs": [],
   "source": [
    "def load_data_bitalino(file_path):\n",
    "    return pd.read_csv(\n",
    "        file_path,sep=\"\\t\", \n",
    "        skiprows=3, \n",
    "        usecols=BITALINO_COLUMNS_TO_USE, \n",
    "        names=BITALINO_COLUMN_NAMES, \n",
    "        header=None\n",
    "    )"
   ]
  },
  {
   "cell_type": "code",
   "execution_count": 26,
   "metadata": {},
   "outputs": [],
   "source": [
    "def load_data_procedure(file_path):\n",
    "    return pd.read_csv(\n",
    "        file_path,sep=\"\\t\", \n",
    "        usecols=PROCEDURE_COLUMNS_TO_USE, \n",
    "        names=PROCEDURE_COLUMN_NAMES, \n",
    "        header=None\n",
    "    )"
   ]
  },
  {
   "cell_type": "code",
   "execution_count": 28,
   "metadata": {},
   "outputs": [],
   "source": [
    "def load_file_map(file_name):\n",
    "    pickle_in = open(file_name,\"rb\")\n",
    "    dictionary = pickle.load(pickle_in)\n",
    "    return dictionary"
   ]
  },
  {
   "cell_type": "code",
   "execution_count": 32,
   "metadata": {},
   "outputs": [],
   "source": [
    "def extract_start_time(file_path):\n",
    "    metadata_str = None\n",
    "    fp = open(file_path)\n",
    "    \n",
    "    # meta data are on the second line of the file\n",
    "    for i, line in enumerate(fp):\n",
    "        if i == 1:\n",
    "            metadata_str = line\n",
    "            fp.close()\n",
    "            break\n",
    "           \n",
    "    # meta data starts with '# ' and ends with a new line sign\n",
    "    metadata_str = metadata_str[2 : -1]\n",
    "    # the meta data format is consistent with the Python dictionary\n",
    "    metadata_dict = ast.literal_eval(metadata_str)\n",
    "    \n",
    "    # HACK: the acquired dictionary is nested but has only one key on the first level\n",
    "    key_name = list(metadata_dict)[0]\n",
    "    \n",
    "    time_str = metadata_dict[key_name]['time']\n",
    "    date_str = metadata_dict[key_name]['date']\n",
    "    datetime_str = date_str + \",\" + time_str\n",
    "    \n",
    "    return time.mktime(datetime.strptime(datetime_str, \"%Y-%m-%d,%H:%M:%S.%f\").timetuple())"
   ]
  },
  {
   "cell_type": "markdown",
   "metadata": {},
   "source": [
    "### 5.2. Load file map"
   ]
  },
  {
   "cell_type": "code",
   "execution_count": 30,
   "metadata": {},
   "outputs": [],
   "source": [
    "FILE_MAP = load_file_map(FILE_MAP_NAME)"
   ]
  },
  {
   "cell_type": "code",
   "execution_count": 31,
   "metadata": {},
   "outputs": [
    {
     "name": "stdout",
     "output_type": "stream",
     "text": [
      "{'1107': {'bitalino': './data/raw_data/bitalino/1107_opensignals_prawestanowisko_2019-04-19_09-11-49.txt',\n",
      "          'info': './data/raw_data/procedura/1107_2019_Apr_19_0712_info.txt',\n",
      "          'procedure': './data/raw_data/procedura/1107_2019_Apr_19_0712.txt'},\n",
      " '1153': {'bitalino': './data/raw_data/bitalino/1153_opensignals_lewestanowisko_2019-04-19_13-03-03.txt',\n",
      "          'info': './data/raw_data/procedura/1153_2019_Apr_19_1259_info.txt',\n",
      "          'procedure': './data/raw_data/procedura/1153_2019_Apr_19_1259.txt'},\n",
      " '1233': {'bitalino': './data/raw_data/bitalino/1233_opensignals_prawestanowisko_2019-04-16_13-06-39.txt',\n",
      "          'info': './data/raw_data/procedura/1233_2019_Apr_16_1240_info.txt',\n",
      "          'procedure': './data/raw_data/procedura/1233_2019_Apr_16_1240.txt'},\n",
      " '1400': {'bitalino': './data/raw_data/bitalino/1400_opensignals_lewestanowisko_2019-04-08_10-12-56.txt',\n",
      "          'info': './data/raw_data/procedura/1400_2019_Apr_08_1000_info.txt',\n",
      "          'procedure': './data/raw_data/procedura/1400_2019_Apr_08_1000.txt'},\n",
      " '1402': {'bitalino': './data/raw_data/bitalino/1402_opensignals_lewestanowisko_2019-04-09_13-06-17.txt',\n",
      "          'info': './data/raw_data/procedura/1402_2019_Apr_09_1307_info.txt',\n",
      "          'procedure': './data/raw_data/procedura/1402_2019_Apr_09_1307.txt'},\n",
      " '1437': {'bitalino': './data/raw_data/bitalino/1437_opensignals_prawestanowisko_2019-04-05_14-23-12.txt',\n",
      "          'info': './data/raw_data/procedura/1437_2019_Apr_05_1423_info.txt',\n",
      "          'procedure': './data/raw_data/procedura/1437_2019_Apr_05_1423.txt'},\n",
      " '1507': {'bitalino': './data/raw_data/bitalino/1507_opensignals_lewestanowisko_2019-04-18_11-31-46.txt',\n",
      "          'info': './data/raw_data/procedura/1507_2019_Apr_18_1134_info.txt',\n",
      "          'procedure': './data/raw_data/procedura/1507_2019_Apr_18_1134.txt'},\n",
      " '1516': {'bitalino': './data/raw_data/bitalino/1516_opensignals_lewestanowisko_2019-04-19_15-14-24.txt',\n",
      "          'info': './data/raw_data/procedura/1516_2019_Apr_19_1516_info.txt',\n",
      "          'procedure': './data/raw_data/procedura/1516_2019_Apr_19_1516.txt'},\n",
      " '1809': {'bitalino': './data/raw_data/bitalino/1809_opensignals_lewestanowisko_2019-04-08_11-28-39.txt',\n",
      "          'info': './data/raw_data/procedura/1809_2019_Apr_08_1128_info.txt',\n",
      "          'procedure': './data/raw_data/procedura/1809_2019_Apr_08_1128.txt'},\n",
      " '2006': {'bitalino': './data/raw_data/bitalino/2006_opensignals_lewestanowisko_2019-04-09_11-23-51.txt',\n",
      "          'info': './data/raw_data/procedura/2006_2019_Apr_09_1126_info.txt',\n",
      "          'procedure': './data/raw_data/procedura/2006_2019_Apr_09_1126.txt'},\n",
      " '2070': {'bitalino': './data/raw_data/bitalino/2070_opensignals_prawestanowisko_2019-04-12_10-40-13.txt',\n",
      "          'info': './data/raw_data/procedura/2070_2019_Apr_12_1042_info.txt',\n",
      "          'procedure': './data/raw_data/procedura/2070_2019_Apr_12_1042.txt'},\n",
      " '2103': {'bitalino': './data/raw_data/bitalino/2103_opensignals_lewestanowisko_2019-04-16_11-59-08.txt',\n",
      "          'info': './data/raw_data/procedura/2103_2019_Apr_16_1123_info.txt',\n",
      "          'procedure': './data/raw_data/procedura/2103_2019_Apr_16_1123.txt'},\n",
      " '2104': {'bitalino': './data/raw_data/bitalino/2104_opensignals_prawestanowisko_2019-04-09_13-38-40.txt',\n",
      "          'info': './data/raw_data/procedura/2104_2019_Apr_09_1339_info.txt',\n",
      "          'procedure': './data/raw_data/procedura/2104_2019_Apr_09_1339.txt'},\n",
      " '2110': {'bitalino': './data/raw_data/bitalino/2110_opensignals_prawestanowisko_2019-04-08_12-17-52.txt',\n",
      "          'info': './data/raw_data/procedura/2110_2019_Apr_08_1218_info.txt',\n",
      "          'procedure': './data/raw_data/procedura/2110_2019_Apr_08_1218.txt'},\n",
      " '2121': {'bitalino': './data/raw_data/bitalino/2121_opensignals_prawestanowisko_2019-04-12_12-19-51.txt',\n",
      "          'info': './data/raw_data/procedura/2121_2019_Apr_12_1222_info.txt',\n",
      "          'procedure': './data/raw_data/procedura/2121_2019_Apr_12_1222.txt'},\n",
      " '2428': {'bitalino': './data/raw_data/bitalino/2428_opensignals_lewestanowisko_2019-04-08_14-31-50.txt',\n",
      "          'info': './data/raw_data/procedura/2428_2019_Apr_08_1432_info.txt',\n",
      "          'procedure': './data/raw_data/procedura/2428_2019_Apr_08_1432.txt'},\n",
      " '2669': {'bitalino': './data/raw_data/bitalino/2669_opensignals_prawestanowisko_2019-04-18_10-50-43.txt',\n",
      "          'info': './data/raw_data/procedura/2669_2019_Apr_18_1052_info.txt',\n",
      "          'procedure': './data/raw_data/procedura/2669_2019_Apr_18_1052.txt'},\n",
      " '2688': {'bitalino': './data/raw_data/bitalino/2688_opensignals_prawestanowisko_2019-04-18_14-03-35.txt',\n",
      "          'info': './data/raw_data/procedura/2688_2019_Apr_18_1404_info.txt',\n",
      "          'procedure': './data/raw_data/procedura/2688_2019_Apr_18_1404.txt'},\n",
      " '2881': {'bitalino': './data/raw_data/bitalino/2881_opensignals_prawestanowisko_2019-04-08_15-11-51.txt',\n",
      "          'info': './data/raw_data/procedura/2881_2019_Apr_08_1512_info.txt',\n",
      "          'procedure': './data/raw_data/procedura/2881_2019_Apr_08_1512.txt'},\n",
      " '2900': {'bitalino': './data/raw_data/bitalino/2900_opensignals_lewestanowisko_2019-04-08_13-02-58.txt',\n",
      "          'info': './data/raw_data/procedura/2900_2019_Apr_08_1302_info.txt',\n",
      "          'procedure': './data/raw_data/procedura/2900_2019_Apr_08_1302.txt'},\n",
      " '3054': {'bitalino': './data/raw_data/bitalino/3054_opensignals_lewestanowisko_2019-04-19_10-01-59.txt',\n",
      "          'info': './data/raw_data/procedura/3054_2019_Apr_19_1002_info.txt',\n",
      "          'procedure': './data/raw_data/procedura/3054_2019_Apr_19_1002.txt'},\n",
      " '3172': {'bitalino': './data/raw_data/bitalino/3172_opensignals_prawestanowisko_2019-04-10_10-57-04.txt',\n",
      "          'info': './data/raw_data/procedura/3172_2019_Apr_10_1057_info.txt',\n",
      "          'procedure': './data/raw_data/procedura/3172_2019_Apr_10_1057.txt'},\n",
      " '3264': {'bitalino': './data/raw_data/bitalino/3264_opensignals_prawestanowisko_2019-04-09_10-42-38.txt',\n",
      "          'info': './data/raw_data/procedura/3264_2019_Apr_09_1043_info.txt',\n",
      "          'procedure': './data/raw_data/procedura/3264_2019_Apr_09_1043.txt'},\n",
      " '3327': {'bitalino': './data/raw_data/bitalino/3327_opensignals_prawestanowisko_2019-04-10_15-56-25.txt',\n",
      "          'info': './data/raw_data/procedura/3327_2019_Apr_10_1556_info.txt',\n",
      "          'procedure': './data/raw_data/procedura/3327_2019_Apr_10_1556.txt'},\n",
      " '3333': {'bitalino': './data/raw_data/bitalino/3333_opensignals_lewestanowisko_2019-04-18_12-58-31.txt',\n",
      "          'info': './data/raw_data/procedura/3333_2019_Apr_18_1300_info.txt',\n",
      "          'procedure': './data/raw_data/procedura/3333_2019_Apr_18_1300.txt'},\n",
      " '3377': {'bitalino': './data/raw_data/bitalino/3377_opensignals_lewestanowisko_2019-04-17_15-09-23.txt',\n",
      "          'info': './data/raw_data/procedura/3377_2019_Apr_17_1510_info.txt',\n",
      "          'procedure': './data/raw_data/procedura/3377_2019_Apr_17_1510.txt'},\n",
      " '3497': {'bitalino': './data/raw_data/bitalino/3497_opensignals_lewestanowisko_2019-04-05_13-31-20.txt',\n",
      "          'info': './data/raw_data/procedura/3497_2019_Apr_05_1332_info.txt',\n",
      "          'procedure': './data/raw_data/procedura/3497_2019_Apr_05_1332.txt'},\n",
      " '3567': {'bitalino': './data/raw_data/bitalino/3567_opensignals_prawestanowisko_2019-04-08_13-45-26.txt',\n",
      "          'info': './data/raw_data/procedura/3567_2019_Apr_08_1345_info.txt',\n",
      "          'procedure': './data/raw_data/procedura/3567_2019_Apr_08_1345.txt'},\n",
      " '3640': {'bitalino': './data/raw_data/bitalino/3640_opensignals_prawestanowisko_2019-04-09_12-11-31.txt',\n",
      "          'info': './data/raw_data/procedura/3640_2019_Apr_09_1213_info.txt',\n",
      "          'procedure': './data/raw_data/procedura/3640_2019_Apr_09_1213.txt'},\n",
      " '3723': {'bitalino': './data/raw_data/bitalino/3723_opensignals_lewestanowisko_2019-04-18_10-04-32.txt',\n",
      "          'info': './data/raw_data/procedura/3723_2019_Apr_18_1006_info.txt',\n",
      "          'procedure': './data/raw_data/procedura/3723_2019_Apr_18_1006.txt'},\n",
      " '3802': {'bitalino': './data/raw_data/bitalino/3802_opensignals_lewestanowisko_2019-04-11_12-53-56.txt',\n",
      "          'info': './data/raw_data/procedura/3802_2019_Apr_11_1256_info.txt',\n",
      "          'procedure': './data/raw_data/procedura/3802_2019_Apr_11_1256.txt'},\n",
      " '3872': {'bitalino': './data/raw_data/bitalino/3872_opensignals_prawestanowisko_2019-04-12_15-28-50.txt',\n",
      "          'info': './data/raw_data/procedura/3872_2019_Apr_12_1525_info.txt',\n",
      "          'procedure': './data/raw_data/procedura/3872_2019_Apr_12_1525.txt'},\n",
      " '4087': {'bitalino': './data/raw_data/bitalino/4087_opensignals_prawestanowisko_2019-04-12_13-52-21.txt',\n",
      "          'info': './data/raw_data/procedura/4087_2019_Apr_12_1352_info.txt',\n",
      "          'procedure': './data/raw_data/procedura/4087_2019_Apr_12_1352.txt'},\n",
      " '4105': {'bitalino': './data/raw_data/bitalino/4105_opensignals_lewestanowisko_2019-04-12_10-05-08.txt',\n",
      "          'info': './data/raw_data/procedura/4105_2019_Apr_12_1009_info.txt',\n",
      "          'procedure': './data/raw_data/procedura/4105_2019_Apr_12_1009.txt'},\n",
      " '4124': {'bitalino': './data/raw_data/bitalino/4124_opensignals_lewestanowisko_2019-04-09_10-45-12.txt',\n",
      "          'info': './data/raw_data/procedura/4124_2019_Apr_09_1002_info.txt',\n",
      "          'procedure': './data/raw_data/procedura/4124_2019_Apr_09_1002.txt'},\n",
      " '4231': {'bitalino': './data/raw_data/bitalino/4231_opensignals_prawestanowisko_2019-04-09_09-13-47.txt',\n",
      "          'info': './data/raw_data/procedura/4231_2019_Apr_09_0914_info.txt',\n",
      "          'procedure': './data/raw_data/procedura/4231_2019_Apr_09_0914.txt'},\n",
      " '4484': {'bitalino': './data/raw_data/bitalino/4484_opensignals_prawestanowisko_2019-04-10_14-30-34.txt',\n",
      "          'info': './data/raw_data/procedura/4484_2019_Apr_10_1431_info.txt',\n",
      "          'procedure': './data/raw_data/procedura/4484_2019_Apr_10_1431.txt'},\n",
      " '4542': {'bitalino': './data/raw_data/bitalino/4542_opensignals_lewestanowisko_2019-04-16_14-34-08.txt',\n",
      "          'info': './data/raw_data/procedura/4542_2019_Apr_16_1435_info.txt',\n",
      "          'procedure': './data/raw_data/procedura/4542_2019_Apr_16_1435.txt'},\n",
      " '4624': {'bitalino': './data/raw_data/bitalino/4624_opensignals_lewestanowisko_2019-04-17_12-10-27.txt',\n",
      "          'info': './data/raw_data/procedura/4624_2019_Apr_17_1211_info.txt',\n",
      "          'procedure': './data/raw_data/procedura/4624_2019_Apr_17_1211.txt'},\n",
      " '4830': {'bitalino': './data/raw_data/bitalino/4830_opensignals_prawestanowisko_2019-04-17_14-38-55.txt',\n",
      "          'info': './data/raw_data/procedura/4830_2019_Apr_17_1438_info.txt',\n",
      "          'procedure': './data/raw_data/procedura/4830_2019_Apr_17_1438.txt'},\n",
      " '5099': {'bitalino': './data/raw_data/bitalino/5099_opensignals_lewestanowisko_2019-04-10_15-19-04.txt',\n",
      "          'info': './data/raw_data/procedura/5099_2019_Apr_10_1520_info.txt',\n",
      "          'procedure': './data/raw_data/procedura/5099_2019_Apr_10_1520.txt'},\n",
      " '5104': {'bitalino': './data/raw_data/bitalino/5104_opensignals_prawestanowisko_2019-04-18_12-17-11.txt',\n",
      "          'info': './data/raw_data/procedura/5104_2019_Apr_18_1218_info.txt',\n",
      "          'procedure': './data/raw_data/procedura/5104_2019_Apr_18_1218.txt'},\n",
      " '5215': {'bitalino': './data/raw_data/bitalino/5215_opensignals_lewestanowisko_2019-04-11_16-04-34.txt',\n",
      "          'info': './data/raw_data/procedura/5215_2019_Apr_11_1559_info.txt',\n",
      "          'procedure': './data/raw_data/procedura/5215_2019_Apr_11_1559.txt'},\n",
      " '5330': {'bitalino': './data/raw_data/bitalino/5330_opensignals_lewestanowisko_2019-04-09_14-52-41.txt',\n",
      "          'info': './data/raw_data/procedura/5330_2019_Apr_09_1431_info.txt',\n",
      "          'procedure': './data/raw_data/procedura/5330_2019_Apr_09_1431.txt'},\n",
      " '5513': {'bitalino': './data/raw_data/bitalino/5513_opensignals_prawestanowisko_2019-04-17_16-05-58.txt',\n",
      "          'info': './data/raw_data/procedura/5513_2019_Apr_17_1605_info.txt',\n",
      "          'procedure': './data/raw_data/procedura/5513_2019_Apr_17_1605.txt'},\n",
      " '5648': {'bitalino': './data/raw_data/bitalino/5648_opensignals_lewestanowisko_2019-04-19_11-28-36.txt',\n",
      "          'info': './data/raw_data/procedura/5648_2019_Apr_19_1128_info.txt',\n",
      "          'procedure': './data/raw_data/procedura/5648_2019_Apr_19_1128.txt'},\n",
      " '5900': {'bitalino': './data/raw_data/bitalino/5900_opensignals_lewestanowisko_2019-04-09_15-56-06.txt',\n",
      "          'info': './data/raw_data/procedura/5900_2019_Apr_09_1556_info.txt',\n",
      "          'procedure': './data/raw_data/procedura/5900_2019_Apr_09_1556.txt'},\n",
      " '5924': {'bitalino': './data/raw_data/bitalino/5924_opensignals_lewestanowisko_2019-04-16_16-03-00.txt',\n",
      "          'info': './data/raw_data/procedura/5924_2019_Apr_16_1603_info.txt',\n",
      "          'procedure': './data/raw_data/procedura/5924_2019_Apr_16_1603.txt'},\n",
      " '5948': {'bitalino': './data/raw_data/bitalino/5948_opensignals_prawestanowisko_2019-04-17_13-03-04.txt',\n",
      "          'info': './data/raw_data/procedura/5948_2019_Apr_17_1307_info.txt',\n",
      "          'procedure': './data/raw_data/procedura/5948_2019_Apr_17_1307.txt'},\n",
      " '6111': {'bitalino': './data/raw_data/bitalino/6111_opensignals_lewestanowisko_2019-04-11_14-23-16.txt',\n",
      "          'info': './data/raw_data/procedura/6111_2019_Apr_11_1423_info.txt',\n",
      "          'procedure': './data/raw_data/procedura/6111_2019_Apr_11_1423.txt'},\n",
      " '6412': {'bitalino': './data/raw_data/bitalino/6412_opensignals_lewestanowisko_2019-04-17_10-42-08.txt',\n",
      "          'info': './data/raw_data/procedura/6412_2019_Apr_17_1042_info.txt',\n",
      "          'procedure': './data/raw_data/procedura/6412_2019_Apr_17_1042.txt'},\n",
      " '6546': {'bitalino': './data/raw_data/bitalino/6546_opensignals_prawestanowisko_2019-04-11_11-48-19.txt',\n",
      "          'info': './data/raw_data/procedura/6546_2019_Apr_11_1048_info.txt',\n",
      "          'procedure': './data/raw_data/procedura/6546_2019_Apr_11_1048.txt'},\n",
      " '6603': {'bitalino': './data/raw_data/bitalino/6603_opensignals_prawestanowisko_2019-04-08_10-42-17.txt',\n",
      "          'info': './data/raw_data/procedura/6603_2019_Apr_08_1042_info.txt',\n",
      "          'procedure': './data/raw_data/procedura/6603_2019_Apr_08_1042.txt'},\n",
      " '6635': {'bitalino': './data/raw_data/bitalino/6635_opensignals_prawestanowisko_2019-04-17_11-19-53.txt',\n",
      "          'info': './data/raw_data/procedura/6635_2019_Apr_17_1120_info.txt',\n",
      "          'procedure': './data/raw_data/procedura/6635_2019_Apr_17_1120.txt'},\n",
      " '6678': {'bitalino': './data/raw_data/bitalino/6678_opensignals_lewestanowisko_2019-04-11_09-32-31.txt',\n",
      "          'info': './data/raw_data/procedura/6678_2019_Apr_11_0934_info.txt',\n",
      "          'procedure': './data/raw_data/procedura/6678_2019_Apr_11_0934.txt'},\n",
      " '6684': {'bitalino': './data/raw_data/bitalino/6684_opensignals_prawestanowisko_2019-04-19_10-37-46.txt',\n",
      "          'info': './data/raw_data/procedura/6684_2019_Apr_19_0838_info.txt',\n",
      "          'procedure': './data/raw_data/procedura/6684_2019_Apr_19_0838.txt'},\n",
      " '6801': {'bitalino': './data/raw_data/bitalino/6801_opensignals_lewestanowisko_2019-04-17_09-05-59.txt',\n",
      "          'info': './data/raw_data/procedura/6801_2019_Apr_17_0907_info.txt',\n",
      "          'procedure': './data/raw_data/procedura/6801_2019_Apr_17_0907.txt'},\n",
      " '7020': {'bitalino': './data/raw_data/bitalino/7020_opensignals_lewestanowisko_2019-04-18_14-31-02.txt',\n",
      "          'info': './data/raw_data/procedura/7020_2019_Apr_18_1433_info.txt',\n",
      "          'procedure': './data/raw_data/procedura/7020_2019_Apr_18_1433.txt'},\n",
      " '7078': {'bitalino': './data/raw_data/bitalino/7078_opensignals_lewestanowisko_2019-04-12_14-37-01.txt',\n",
      "          'info': './data/raw_data/procedura/7078_2019_Apr_12_1438_info.txt',\n",
      "          'procedure': './data/raw_data/procedura/7078_2019_Apr_12_1438.txt'},\n",
      " '7250': {'bitalino': './data/raw_data/bitalino/7250_opensignals_prawestanowisko_2019-04-11_09-27-19.txt',\n",
      "          'info': './data/raw_data/procedura/7250_2019_Apr_11_0928_info.txt',\n",
      "          'procedure': './data/raw_data/procedura/7250_2019_Apr_11_0928.txt'},\n",
      " '7311': {'bitalino': './data/raw_data/bitalino/7311_opensignals_prawestanowisko_2019-04-17_09-47-31.txt',\n",
      "          'info': './data/raw_data/procedura/7311_2019_Apr_17_0951_info.txt',\n",
      "          'procedure': './data/raw_data/procedura/7311_2019_Apr_17_0951.txt'},\n",
      " '7474': {'bitalino': './data/raw_data/bitalino/7474_opensignals_prawestanowisko_2019-04-15_15-14-57.txt',\n",
      "          'info': './data/raw_data/procedura/7474_2019_Apr_15_1511_info.txt',\n",
      "          'procedure': './data/raw_data/procedura/7474_2019_Apr_15_1511.txt'},\n",
      " '7630': {'bitalino': './data/raw_data/bitalino/7630_opensignals_lewestanowisko_2019-04-12_16-08-26.txt',\n",
      "          'info': './data/raw_data/procedura/7630_2019_Apr_12_1609_info.txt',\n",
      "          'procedure': './data/raw_data/procedura/7630_2019_Apr_12_1609.txt'},\n",
      " '7686': {'bitalino': './data/raw_data/bitalino/7686_opensignals_lewestanowisko_2019-04-17_13-39-14.txt',\n",
      "          'info': './data/raw_data/procedura/7686_2019_Apr_17_1339_info.txt',\n",
      "          'procedure': './data/raw_data/procedura/7686_2019_Apr_17_1339.txt'},\n",
      " '7777': {'bitalino': './data/raw_data/bitalino/7777_opensignals_lewestanowisko_2019-04-18_16-04-07.txt',\n",
      "          'info': './data/raw_data/procedura/7777_2019_Apr_18_1606_info.txt',\n",
      "          'procedure': './data/raw_data/procedura/7777_2019_Apr_18_1606.txt'},\n",
      " '7820': {'bitalino': './data/raw_data/bitalino/7820_opensignals_lewestanowisko_2019-04-10_10-02-10.txt',\n",
      "          'info': './data/raw_data/procedura/7820_2019_Apr_10_1002_info.txt',\n",
      "          'procedure': './data/raw_data/procedura/7820_2019_Apr_10_1002.txt'},\n",
      " '7957': {'bitalino': './data/raw_data/bitalino/7957_opensignals_prawestanowisko_2019-04-19_12-11-16.txt',\n",
      "          'info': './data/raw_data/procedura/7957_2019_Apr_19_1011_info.txt',\n",
      "          'procedure': './data/raw_data/procedura/7957_2019_Apr_19_1011.txt'},\n",
      " '8002': {'bitalino': './data/raw_data/bitalino/8002_opensignals_prawestanowisko_2019-04-16_15-38-47.txt',\n",
      "          'info': './data/raw_data/procedura/8002_2019_Apr_16_1538_info.txt',\n",
      "          'procedure': './data/raw_data/procedura/8002_2019_Apr_16_1538.txt'},\n",
      " '8040': {'bitalino': './data/raw_data/bitalino/8040_opensignals_prawestanowisko_2019-04-16_14-11-49.txt',\n",
      "          'info': './data/raw_data/procedura/8040_2019_Apr_16_1410_info.txt',\n",
      "          'procedure': './data/raw_data/procedura/8040_2019_Apr_16_1410.txt'},\n",
      " '8057': {'bitalino': './data/raw_data/bitalino/8057_opensignals_prawestanowisko_2019-04-11_15-05-56.txt',\n",
      "          'info': './data/raw_data/procedura/8057_2019_Apr_11_1506_info.txt',\n",
      "          'procedure': './data/raw_data/procedura/8057_2019_Apr_11_1506.txt'},\n",
      " '8101': {'bitalino': './data/raw_data/bitalino/8101_opensignals_lewestanowisko_2019-04-12_11-43-16.txt',\n",
      "          'info': './data/raw_data/procedura/8101_2019_Apr_12_1143_info.txt',\n",
      "          'procedure': './data/raw_data/procedura/8101_2019_Apr_12_1143.txt'},\n",
      " '8341': {'bitalino': './data/raw_data/bitalino/8341_opensignals_lewestanowisko_2019-04-12_13-06-52.txt',\n",
      "          'info': './data/raw_data/procedura/8341_2019_Apr_12_1309_info.txt',\n",
      "          'procedure': './data/raw_data/procedura/8341_2019_Apr_12_1309.txt'},\n",
      " '8500': {'bitalino': './data/raw_data/bitalino/8500_opensignals_lewestanowisko_2019-04-16_10-12-14.txt',\n",
      "          'info': './data/raw_data/procedura/8500_2019_Apr_16_0950_info.txt',\n",
      "          'procedure': './data/raw_data/procedura/8500_2019_Apr_16_0950.txt'},\n",
      " '8624': {'bitalino': './data/raw_data/bitalino/8624_opensignals_lewestanowisko_2019-04-11_11-55-22.txt',\n",
      "          'info': './data/raw_data/procedura/8624_2019_Apr_11_1132_info.txt',\n",
      "          'procedure': './data/raw_data/procedura/8624_2019_Apr_11_1132.txt'},\n",
      " '8722': {'bitalino': './data/raw_data/bitalino/8722_opensignals_prawestanowisko_2019-04-11_13-43-53.txt',\n",
      "          'info': './data/raw_data/procedura/8722_2019_Apr_11_1344_info.txt',\n",
      "          'procedure': './data/raw_data/procedura/8722_2019_Apr_11_1344.txt'},\n",
      " '8803': {'bitalino': './data/raw_data/bitalino/8803_opensignals_prawestanowisko_2019-04-05_12-55-29.txt',\n",
      "          'info': './data/raw_data/procedura/8803_2019_Apr_05_1257_info.txt',\n",
      "          'procedure': './data/raw_data/procedura/8803_2019_Apr_05_1257.txt'},\n",
      " '8909': {'bitalino': './data/raw_data/bitalino/8909_opensignals_lewestanowisko_2019-04-05_10-35-42.txt',\n",
      "          'info': './data/raw_data/procedura/8909_2019_Apr_05_1035_info.txt',\n",
      "          'procedure': './data/raw_data/procedura/8909_2019_Apr_05_1035.txt'},\n",
      " '8958': {'bitalino': './data/raw_data/bitalino/8958_opensignals_lewestanowisko_2019-04-05_11-55-43.txt',\n",
      "          'info': './data/raw_data/procedura/8958_2019_Apr_05_1156_info.txt',\n",
      "          'procedure': './data/raw_data/procedura/8958_2019_Apr_05_1156.txt'},\n",
      " '9076': {'bitalino': './data/raw_data/bitalino/9076_opensignals_lewestanowisko_2019-04-16_12-59-04.txt',\n",
      "          'info': './data/raw_data/procedura/9076_2019_Apr_16_1300_info.txt',\n",
      "          'procedure': './data/raw_data/procedura/9076_2019_Apr_16_1300.txt'},\n",
      " '9222': {'bitalino': './data/raw_data/bitalino/9222_opensignals_prawestanowisko_2019-04-05_11-27-16.txt',\n",
      "          'info': './data/raw_data/procedura/9222_2019_Apr_05_1127_info.txt',\n",
      "          'procedure': './data/raw_data/procedura/9222_2019_Apr_05_1127.txt'},\n",
      " '9296': {'bitalino': './data/raw_data/bitalino/9296_opensignals_prawestanowisko_2019-04-12_09-09-03.txt',\n",
      "          'info': './data/raw_data/procedura/9296_2019_Apr_12_0908_info.txt',\n",
      "          'procedure': './data/raw_data/procedura/9296_2019_Apr_12_0908.txt'},\n",
      " '9495': {'bitalino': './data/raw_data/bitalino/9495_opensignals_prawestanowisko_2019-04-19_13-44-27.txt',\n",
      "          'info': './data/raw_data/procedura/9495_2019_Apr_19_1144_info.txt',\n",
      "          'procedure': './data/raw_data/procedura/9495_2019_Apr_19_1144.txt'},\n",
      " '9639': {'bitalino': './data/raw_data/bitalino/9639_opensignals_lewestanowisko_2019-04-08_15-57-44.txt',\n",
      "          'info': './data/raw_data/procedura/9639_2019_Apr_08_1557_info.txt',\n",
      "          'procedure': './data/raw_data/procedura/9639_2019_Apr_08_1557.txt'},\n",
      " '9695': {'bitalino': './data/raw_data/bitalino/9695_opensignals_lewestanowisko_2019-04-15_15-15-31.txt',\n",
      "          'info': './data/raw_data/procedura/9695_2019_Apr_15_1515_info.txt',\n",
      "          'procedure': './data/raw_data/procedura/9695_2019_Apr_15_1515.txt'},\n",
      " '9702': {'bitalino': './data/raw_data/bitalino/9702_opensignals_prawestanowisko_2019-04-18_09-17-46.txt',\n",
      "          'info': './data/raw_data/procedura/9702_2019_Apr_18_0919_info.txt',\n",
      "          'procedure': './data/raw_data/procedura/9702_2019_Apr_18_0919.txt'},\n",
      " '9740': {'bitalino': './data/raw_data/bitalino/9740_opensignals_prawestanowisko_2019-04-05_09-52-40.txt',\n",
      "          'info': './data/raw_data/procedura/9740_2019_Apr_05_0953_info.txt',\n",
      "          'procedure': './data/raw_data/procedura/9740_2019_Apr_05_0953.txt'},\n",
      " '9744': {'bitalino': './data/raw_data/bitalino/9744_opensignals_prawestanowisko_2019-04-09_15-03-06.txt',\n",
      "          'info': './data/raw_data/procedura/9744_2019_Apr_09_1503_info.txt',\n",
      "          'procedure': './data/raw_data/procedura/9744_2019_Apr_09_1503.txt'},\n",
      " '9899': {'bitalino': './data/raw_data/bitalino/9899_opensignals_prawestanowisko_2019-04-10_09-12-47.txt',\n",
      "          'info': './data/raw_data/procedura/9899_2019_Apr_10_0913_info.txt',\n",
      "          'procedure': './data/raw_data/procedura/9899_2019_Apr_10_0913.txt'},\n",
      " '9926': {'bitalino': './data/raw_data/bitalino/9926_opensignals_prawestanowisko_2019-04-16_09-22-08.txt',\n",
      "          'info': './data/raw_data/procedura/9926_2019_Apr_16_0921_info.txt',\n",
      "          'procedure': './data/raw_data/procedura/9926_2019_Apr_16_0921.txt'},\n",
      " '9937': {'bitalino': './data/raw_data/bitalino/9937_opensignals_prawestanowisko_2019-04-16_10-53-40.txt',\n",
      "          'info': './data/raw_data/procedura/9937_2019_Apr_16_1053_info.txt',\n",
      "          'procedure': './data/raw_data/procedura/9937_2019_Apr_16_1053.txt'},\n",
      " '9952': {'bitalino': './data/raw_data/bitalino/9952_opensignals_prawestanowisko_2019-04-11_12-15-54.txt',\n",
      "          'info': './data/raw_data/procedura/9952_2019_Apr_11_1216_info.txt',\n",
      "          'procedure': './data/raw_data/procedura/9952_2019_Apr_11_1216.txt'}}\n"
     ]
    }
   ],
   "source": [
    "pprint(FILE_MAP)"
   ]
  },
  {
   "cell_type": "markdown",
   "metadata": {},
   "source": [
    "### 5.3. Rreproces raw data"
   ]
  },
  {
   "cell_type": "code",
   "execution_count": null,
   "metadata": {},
   "outputs": [],
   "source": []
  }
 ],
 "metadata": {
  "kernelspec": {
   "display_name": "Python 3",
   "language": "python",
   "name": "python3"
  },
  "language_info": {
   "codemirror_mode": {
    "name": "ipython",
    "version": 3
   },
   "file_extension": ".py",
   "mimetype": "text/x-python",
   "name": "python",
   "nbconvert_exporter": "python",
   "pygments_lexer": "ipython3",
   "version": "3.6.7"
  }
 },
 "nbformat": 4,
 "nbformat_minor": 2
}
