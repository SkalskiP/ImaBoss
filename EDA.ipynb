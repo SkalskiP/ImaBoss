{
 "cells": [
  {
   "cell_type": "markdown",
   "metadata": {},
   "source": [
    "# EDA\n",
    "---\n",
    "**08.05.2019**"
   ]
  },
  {
   "cell_type": "markdown",
   "metadata": {},
   "source": [
    "**NOTE:** The aim is to understand the data structure and to find potential information that is not visible at first glance. The basic selection of feathers and the feature engeniering will be carried out."
   ]
  },
  {
   "cell_type": "markdown",
   "metadata": {},
   "source": [
    "## 1. Imports"
   ]
  },
  {
   "cell_type": "code",
   "execution_count": 1,
   "metadata": {},
   "outputs": [],
   "source": [
    "import numpy as np\n",
    "import pandas as pd\n",
    "import matplotlib\n",
    "import matplotlib.pyplot as plt\n",
    "import os\n",
    "import gc\n",
    "import ast\n",
    "import time\n",
    "import math\n",
    "from datetime import datetime\n",
    "%matplotlib inline"
   ]
  },
  {
   "cell_type": "markdown",
   "metadata": {},
   "source": [
    "## 2. Settings"
   ]
  },
  {
   "cell_type": "code",
   "execution_count": 2,
   "metadata": {},
   "outputs": [],
   "source": [
    "# BITALINO\n",
    "\n",
    "BITALINO_RAW_DATA_SOURCE_DIR = \"./data/raw_data/bitalino\"\n",
    "BITALINO_RAW_DATA_SAMPLE_FILES = [\n",
    "    '9744_opensignals_prawestanowisko_2019-04-09_15-03-06.txt',\n",
    "    '9899_opensignals_prawestanowisko_2019-04-10_09-12-47.txt',\n",
    "    '9926_opensignals_prawestanowisko_2019-04-16_09-22-08.txt',\n",
    "    '9937_opensignals_prawestanowisko_2019-04-16_10-53-40.txt',\n",
    "    '9952_opensignals_prawestanowisko_2019-04-11_12-15-54.txt'\n",
    "]\n",
    "BITALINO_COLUMNS_TO_USE = [5, 6]\n",
    "BITALINO_COLUMN_NAMES = [\n",
    "    \"EKG\", \n",
    "    \"GSR\"\n",
    "]\n",
    "BITALINO_SAMPLING_RATE_PER_SEC = 1000\n",
    "\n",
    "# PROCEDURE\n",
    "\n",
    "PROCEDURE_RAW_DATA_SOURCE_DIR = \"./data/raw_data/procedura\"\n",
    "PROCEDURE_RAW_DATA_SAMPLE_FILES = [\n",
    "    '9744_2019_Apr_09_1503.txt',\n",
    "    '9899_2019_Apr_10_0913.txt',\n",
    "    '9926_2019_Apr_16_0921.txt',\n",
    "    '9937_2019_Apr_16_1053.txt',\n",
    "    '9952_2019_Apr_11_1216.txt'\n",
    "]\n",
    "\n",
    "PROCEDURE_COLUMNS_TO_USE = [2, 3, 4, 5, 6, 7, 8, 9]\n",
    "PROCEDURE_COLUMN_NAMES = [\n",
    "    \"CONDITION\",\n",
    "    \"SPEC_CONDITION\",\n",
    "    \"SOUND_NUM\",\n",
    "    \"IMAGE_NUM\",\n",
    "    \"WIDGET_TYPE\",\n",
    "    \"WIDGET_RESPONSE\",\n",
    "    \"RESPONSE_TIME\",\n",
    "    \"TIMESTAMP\"\n",
    "]"
   ]
  },
  {
   "cell_type": "markdown",
   "metadata": {},
   "source": [
    "## 3. Load Data"
   ]
  },
  {
   "cell_type": "code",
   "execution_count": 3,
   "metadata": {},
   "outputs": [],
   "source": [
    "def load_data_bitalino(file_name, dir_path):\n",
    "    file_path = os.path.join(dir_path, file_name)\n",
    "    return pd.read_csv(\n",
    "        file_path,sep=\"\\t\", \n",
    "        skiprows=3, \n",
    "        usecols=BITALINO_COLUMNS_TO_USE, \n",
    "        names=BITALINO_COLUMN_NAMES, \n",
    "        header=None\n",
    "    )"
   ]
  },
  {
   "cell_type": "code",
   "execution_count": 4,
   "metadata": {},
   "outputs": [],
   "source": [
    "def load_data_procedure(file_name, dir_path):\n",
    "    file_path = os.path.join(dir_path, file_name)\n",
    "    return pd.read_csv(\n",
    "        file_path,sep=\"\\t\", \n",
    "        usecols=PROCEDURE_COLUMNS_TO_USE, \n",
    "        names=PROCEDURE_COLUMN_NAMES, \n",
    "        header=None\n",
    "    )"
   ]
  },
  {
   "cell_type": "code",
   "execution_count": 5,
   "metadata": {},
   "outputs": [],
   "source": [
    "IAPS_data = pd.read_csv(\"./data/IAPS.csv\",sep=\";\")\n",
    "IADS2_data = pd.read_csv(\"./data/IADS2.csv\",sep=\";\")\n",
    "NEOFFI_data = pd.read_csv(\"./data/NEO-FFI.txt\",sep=\"\\t\")\n",
    "\n",
    "BITALINO_data = { file_name[:4] : load_data_bitalino(file_name, BITALINO_RAW_DATA_SOURCE_DIR) for index, file_name in enumerate(BITALINO_RAW_DATA_SAMPLE_FILES) }\n",
    "PROCEDURE_data = { file_name[:4] : load_data_procedure(file_name, PROCEDURE_RAW_DATA_SOURCE_DIR) for index, file_name in enumerate(PROCEDURE_RAW_DATA_SAMPLE_FILES) }"
   ]
  },
  {
   "cell_type": "markdown",
   "metadata": {},
   "source": [
    "## 4. Data preprocessing"
   ]
  },
  {
   "cell_type": "markdown",
   "metadata": {},
   "source": [
    "### 4.1. International Affective Picture System"
   ]
  },
  {
   "cell_type": "code",
   "execution_count": 6,
   "metadata": {},
   "outputs": [
    {
     "name": "stdout",
     "output_type": "stream",
     "text": [
      "<class 'pandas.core.frame.DataFrame'>\n",
      "RangeIndex: 1194 entries, 0 to 1193\n",
      "Data columns (total 7 columns):\n",
      "Description    1194 non-null object\n",
      "IAPS           1194 non-null object\n",
      "ValenceMean    1194 non-null object\n",
      "ValenceSD      1194 non-null object\n",
      "ArousalMean    1194 non-null object\n",
      "ArousalSD      1194 non-null object\n",
      "set            1194 non-null int64\n",
      "dtypes: int64(1), object(6)\n",
      "memory usage: 65.4+ KB\n"
     ]
    }
   ],
   "source": [
    "IAPS_data.info()"
   ]
  },
  {
   "cell_type": "code",
   "execution_count": 7,
   "metadata": {},
   "outputs": [
    {
     "data": {
      "text/html": [
       "<div>\n",
       "<style scoped>\n",
       "    .dataframe tbody tr th:only-of-type {\n",
       "        vertical-align: middle;\n",
       "    }\n",
       "\n",
       "    .dataframe tbody tr th {\n",
       "        vertical-align: top;\n",
       "    }\n",
       "\n",
       "    .dataframe thead th {\n",
       "        text-align: right;\n",
       "    }\n",
       "</style>\n",
       "<table border=\"1\" class=\"dataframe\">\n",
       "  <thead>\n",
       "    <tr style=\"text-align: right;\">\n",
       "      <th></th>\n",
       "      <th>Description</th>\n",
       "      <th>IAPS</th>\n",
       "      <th>ValenceMean</th>\n",
       "      <th>ValenceSD</th>\n",
       "      <th>ArousalMean</th>\n",
       "      <th>ArousalSD</th>\n",
       "      <th>set</th>\n",
       "    </tr>\n",
       "  </thead>\n",
       "  <tbody>\n",
       "    <tr>\n",
       "      <th>0</th>\n",
       "      <td>Snake</td>\n",
       "      <td>1019</td>\n",
       "      <td>3,95</td>\n",
       "      <td>1,96</td>\n",
       "      <td>5,77</td>\n",
       "      <td>1,83</td>\n",
       "      <td>12</td>\n",
       "    </tr>\n",
       "    <tr>\n",
       "      <th>1</th>\n",
       "      <td>Snake</td>\n",
       "      <td>1022</td>\n",
       "      <td>4,26</td>\n",
       "      <td>2,04</td>\n",
       "      <td>6,02</td>\n",
       "      <td>1,97</td>\n",
       "      <td>12</td>\n",
       "    </tr>\n",
       "    <tr>\n",
       "      <th>2</th>\n",
       "      <td>Snake</td>\n",
       "      <td>1026</td>\n",
       "      <td>4,09</td>\n",
       "      <td>1,91</td>\n",
       "      <td>5,61</td>\n",
       "      <td>2,23</td>\n",
       "      <td>16</td>\n",
       "    </tr>\n",
       "    <tr>\n",
       "      <th>3</th>\n",
       "      <td>Snake</td>\n",
       "      <td>1030</td>\n",
       "      <td>4,3</td>\n",
       "      <td>2,35</td>\n",
       "      <td>5,46</td>\n",
       "      <td>2,43</td>\n",
       "      <td>1</td>\n",
       "    </tr>\n",
       "    <tr>\n",
       "      <th>4</th>\n",
       "      <td>Snake</td>\n",
       "      <td>1033</td>\n",
       "      <td>3,87</td>\n",
       "      <td>1,94</td>\n",
       "      <td>6,13</td>\n",
       "      <td>2,15</td>\n",
       "      <td>18</td>\n",
       "    </tr>\n",
       "  </tbody>\n",
       "</table>\n",
       "</div>"
      ],
      "text/plain": [
       "  Description  IAPS ValenceMean ValenceSD ArousalMean ArousalSD  set\n",
       "0       Snake  1019        3,95      1,96        5,77      1,83   12\n",
       "1       Snake  1022        4,26      2,04        6,02      1,97   12\n",
       "2       Snake  1026        4,09      1,91        5,61      2,23   16\n",
       "3       Snake  1030         4,3      2,35        5,46      2,43    1\n",
       "4       Snake  1033        3,87      1,94        6,13      2,15   18"
      ]
     },
     "execution_count": 7,
     "metadata": {},
     "output_type": "execute_result"
    }
   ],
   "source": [
    "IAPS_data.head()"
   ]
  },
  {
   "cell_type": "markdown",
   "metadata": {},
   "source": [
    "**NOTE:** \n",
    "* Some ids are invalid and cannot be saved as int\n",
    "* The numbers in ValenceMean, ValenceSD, ArousalMean and ArousalSD columns are written with commas. They have to be replaced with dots and loaded as float."
   ]
  },
  {
   "cell_type": "code",
   "execution_count": 8,
   "metadata": {},
   "outputs": [],
   "source": [
    "# Convert to int and if it fails, delete the row\n",
    "IAPS_data['IAPS'] = pd.to_numeric(IAPS_data['IAPS'], errors='coerce')\n",
    "IAPS_data = IAPS_data.dropna(subset=['IAPS'])\n",
    "IAPS_data['IAPS'] = IAPS_data['IAPS'].astype('int')\n",
    "\n",
    "IAPS_data['ValenceMean'] = IAPS_data['ValenceMean'].apply(lambda x: x.replace(',','.')).astype(float)\n",
    "IAPS_data['ValenceSD'] = IAPS_data['ValenceSD'].apply(lambda x: x.replace(',','.')).astype(float)\n",
    "IAPS_data['ArousalMean'] = IAPS_data['ArousalMean'].apply(lambda x: x.replace(',','.')).astype(float)\n",
    "IAPS_data['ArousalSD'] = IAPS_data['ArousalSD'].apply(lambda x: x.replace(',','.')).astype(float)"
   ]
  },
  {
   "cell_type": "code",
   "execution_count": 9,
   "metadata": {},
   "outputs": [
    {
     "name": "stdout",
     "output_type": "stream",
     "text": [
      "<class 'pandas.core.frame.DataFrame'>\n",
      "Int64Index: 1171 entries, 0 to 1193\n",
      "Data columns (total 7 columns):\n",
      "Description    1171 non-null object\n",
      "IAPS           1171 non-null int64\n",
      "ValenceMean    1171 non-null float64\n",
      "ValenceSD      1171 non-null float64\n",
      "ArousalMean    1171 non-null float64\n",
      "ArousalSD      1171 non-null float64\n",
      "set            1171 non-null int64\n",
      "dtypes: float64(4), int64(2), object(1)\n",
      "memory usage: 73.2+ KB\n"
     ]
    }
   ],
   "source": [
    "IAPS_data.info()"
   ]
  },
  {
   "cell_type": "markdown",
   "metadata": {},
   "source": [
    "**NOTE:**\n",
    "* 23 photo data were lost"
   ]
  },
  {
   "cell_type": "markdown",
   "metadata": {},
   "source": [
    "### 4.2. International Affective Digitized Sounds (2nd Edition)"
   ]
  },
  {
   "cell_type": "code",
   "execution_count": 10,
   "metadata": {},
   "outputs": [
    {
     "name": "stdout",
     "output_type": "stream",
     "text": [
      "<class 'pandas.core.frame.DataFrame'>\n",
      "RangeIndex: 167 entries, 0 to 166\n",
      "Data columns (total 6 columns):\n",
      "Sound          167 non-null object\n",
      "Number         167 non-null int64\n",
      "ValenceMean    167 non-null float64\n",
      "ValenceSD      167 non-null float64\n",
      "ArousalMean    167 non-null float64\n",
      "ArousalSD      167 non-null float64\n",
      "dtypes: float64(4), int64(1), object(1)\n",
      "memory usage: 7.9+ KB\n"
     ]
    }
   ],
   "source": [
    "IADS2_data.info()"
   ]
  },
  {
   "cell_type": "code",
   "execution_count": 11,
   "metadata": {},
   "outputs": [
    {
     "data": {
      "text/html": [
       "<div>\n",
       "<style scoped>\n",
       "    .dataframe tbody tr th:only-of-type {\n",
       "        vertical-align: middle;\n",
       "    }\n",
       "\n",
       "    .dataframe tbody tr th {\n",
       "        vertical-align: top;\n",
       "    }\n",
       "\n",
       "    .dataframe thead th {\n",
       "        text-align: right;\n",
       "    }\n",
       "</style>\n",
       "<table border=\"1\" class=\"dataframe\">\n",
       "  <thead>\n",
       "    <tr style=\"text-align: right;\">\n",
       "      <th></th>\n",
       "      <th>Sound</th>\n",
       "      <th>Number</th>\n",
       "      <th>ValenceMean</th>\n",
       "      <th>ValenceSD</th>\n",
       "      <th>ArousalMean</th>\n",
       "      <th>ArousalSD</th>\n",
       "    </tr>\n",
       "  </thead>\n",
       "  <tbody>\n",
       "    <tr>\n",
       "      <th>0</th>\n",
       "      <td>Cat</td>\n",
       "      <td>102</td>\n",
       "      <td>4.63</td>\n",
       "      <td>2.17</td>\n",
       "      <td>4.91</td>\n",
       "      <td>1.97</td>\n",
       "    </tr>\n",
       "    <tr>\n",
       "      <th>1</th>\n",
       "      <td>Panting</td>\n",
       "      <td>104</td>\n",
       "      <td>4.96</td>\n",
       "      <td>1.68</td>\n",
       "      <td>5.37</td>\n",
       "      <td>1.66</td>\n",
       "    </tr>\n",
       "    <tr>\n",
       "      <th>2</th>\n",
       "      <td>Puppy</td>\n",
       "      <td>105</td>\n",
       "      <td>2.88</td>\n",
       "      <td>2.14</td>\n",
       "      <td>6.40</td>\n",
       "      <td>2.13</td>\n",
       "    </tr>\n",
       "    <tr>\n",
       "      <th>3</th>\n",
       "      <td>Growl1</td>\n",
       "      <td>106</td>\n",
       "      <td>3.37</td>\n",
       "      <td>1.64</td>\n",
       "      <td>6.39</td>\n",
       "      <td>1.62</td>\n",
       "    </tr>\n",
       "    <tr>\n",
       "      <th>4</th>\n",
       "      <td>Dog</td>\n",
       "      <td>107</td>\n",
       "      <td>5.47</td>\n",
       "      <td>2.22</td>\n",
       "      <td>5.85</td>\n",
       "      <td>1.81</td>\n",
       "    </tr>\n",
       "  </tbody>\n",
       "</table>\n",
       "</div>"
      ],
      "text/plain": [
       "     Sound  Number  ValenceMean  ValenceSD  ArousalMean  ArousalSD\n",
       "0      Cat     102         4.63       2.17         4.91       1.97\n",
       "1  Panting     104         4.96       1.68         5.37       1.66\n",
       "2    Puppy     105         2.88       2.14         6.40       2.13\n",
       "3   Growl1     106         3.37       1.64         6.39       1.62\n",
       "4      Dog     107         5.47       2.22         5.85       1.81"
      ]
     },
     "execution_count": 11,
     "metadata": {},
     "output_type": "execute_result"
    }
   ],
   "source": [
    "IADS2_data.head()"
   ]
  },
  {
   "cell_type": "markdown",
   "metadata": {},
   "source": [
    "### 4.3. Personality questionnaire results"
   ]
  },
  {
   "cell_type": "markdown",
   "metadata": {},
   "source": [
    "* **OTW** - Openness to experience - is a general appreciation for art, emotion, adventure, unusual ideas, imagination, curiosity, and variety of experience. People who are open to experience are intellectually curious, open to emotion, sensitive to beauty and willing to try new things. They tend to be, when compared to closed people, more creative and more aware of their feelings. They are also more likely to hold unconventional beliefs.\n",
    "\n",
    "* **SUM** - Conscientiousness -  is a tendency to display self-discipline, act dutifully, and strive for achievement against measures or outside expectations. It is related to the way in which people control, regulate, and direct their impulses. High scores on conscientiousness indicate a preference for planned rather than spontaneous behavior. The average level of conscientiousness rises among young adults and then declines among older adults.\n",
    "\n",
    "* **NEU** - Neuroticism - is the tendency to experience negative emotions, such as anger, anxiety, or depression. It is sometimes called emotional instability, or is reversed and referred to as emotional stability.\n",
    "\n",
    "* **UGD** - Agreeableness - eflects individual differences in general concern for social harmony. Agreeable individuals value getting along with others. They are generally considerate, kind, generous, trusting and trustworthy, helpful, and willing to compromise their interests with others. Agreeable people also have an optimistic view of human nature.\n",
    "\n",
    "* **EKST** - Extraversion - is characterized by breadth of activities (as opposed to depth), surgency from external activity/situations, and energy creation from external means. The trait is marked by pronounced engagement with the external world."
   ]
  },
  {
   "cell_type": "code",
   "execution_count": 12,
   "metadata": {},
   "outputs": [
    {
     "name": "stdout",
     "output_type": "stream",
     "text": [
      "<class 'pandas.core.frame.DataFrame'>\n",
      "RangeIndex: 79 entries, 0 to 78\n",
      "Data columns (total 8 columns):\n",
      "ID      79 non-null int64\n",
      "AGE     79 non-null int64\n",
      "SEX     79 non-null object\n",
      "OTW     79 non-null int64\n",
      "SUM     79 non-null int64\n",
      "NEU     79 non-null int64\n",
      "UGD     79 non-null int64\n",
      "EKST    79 non-null int64\n",
      "dtypes: int64(7), object(1)\n",
      "memory usage: 5.0+ KB\n"
     ]
    }
   ],
   "source": [
    "NEOFFI_data.info()"
   ]
  },
  {
   "cell_type": "code",
   "execution_count": 13,
   "metadata": {},
   "outputs": [
    {
     "data": {
      "text/html": [
       "<div>\n",
       "<style scoped>\n",
       "    .dataframe tbody tr th:only-of-type {\n",
       "        vertical-align: middle;\n",
       "    }\n",
       "\n",
       "    .dataframe tbody tr th {\n",
       "        vertical-align: top;\n",
       "    }\n",
       "\n",
       "    .dataframe thead th {\n",
       "        text-align: right;\n",
       "    }\n",
       "</style>\n",
       "<table border=\"1\" class=\"dataframe\">\n",
       "  <thead>\n",
       "    <tr style=\"text-align: right;\">\n",
       "      <th></th>\n",
       "      <th>ID</th>\n",
       "      <th>AGE</th>\n",
       "      <th>SEX</th>\n",
       "      <th>OTW</th>\n",
       "      <th>SUM</th>\n",
       "      <th>NEU</th>\n",
       "      <th>UGD</th>\n",
       "      <th>EKST</th>\n",
       "    </tr>\n",
       "  </thead>\n",
       "  <tbody>\n",
       "    <tr>\n",
       "      <th>0</th>\n",
       "      <td>1107</td>\n",
       "      <td>21</td>\n",
       "      <td>F</td>\n",
       "      <td>4</td>\n",
       "      <td>6</td>\n",
       "      <td>3</td>\n",
       "      <td>4</td>\n",
       "      <td>10</td>\n",
       "    </tr>\n",
       "    <tr>\n",
       "      <th>1</th>\n",
       "      <td>1153</td>\n",
       "      <td>22</td>\n",
       "      <td>F</td>\n",
       "      <td>5</td>\n",
       "      <td>3</td>\n",
       "      <td>8</td>\n",
       "      <td>3</td>\n",
       "      <td>8</td>\n",
       "    </tr>\n",
       "    <tr>\n",
       "      <th>2</th>\n",
       "      <td>1233</td>\n",
       "      <td>21</td>\n",
       "      <td>F</td>\n",
       "      <td>6</td>\n",
       "      <td>8</td>\n",
       "      <td>2</td>\n",
       "      <td>10</td>\n",
       "      <td>7</td>\n",
       "    </tr>\n",
       "    <tr>\n",
       "      <th>3</th>\n",
       "      <td>1400</td>\n",
       "      <td>22</td>\n",
       "      <td>M</td>\n",
       "      <td>4</td>\n",
       "      <td>6</td>\n",
       "      <td>6</td>\n",
       "      <td>6</td>\n",
       "      <td>5</td>\n",
       "    </tr>\n",
       "    <tr>\n",
       "      <th>4</th>\n",
       "      <td>1402</td>\n",
       "      <td>27</td>\n",
       "      <td>F</td>\n",
       "      <td>9</td>\n",
       "      <td>7</td>\n",
       "      <td>7</td>\n",
       "      <td>4</td>\n",
       "      <td>7</td>\n",
       "    </tr>\n",
       "  </tbody>\n",
       "</table>\n",
       "</div>"
      ],
      "text/plain": [
       "     ID  AGE SEX  OTW  SUM  NEU  UGD  EKST\n",
       "0  1107   21   F    4    6    3    4    10\n",
       "1  1153   22   F    5    3    8    3     8\n",
       "2  1233   21   F    6    8    2   10     7\n",
       "3  1400   22   M    4    6    6    6     5\n",
       "4  1402   27   F    9    7    7    4     7"
      ]
     },
     "execution_count": 13,
     "metadata": {},
     "output_type": "execute_result"
    }
   ],
   "source": [
    "NEOFFI_data.head()"
   ]
  },
  {
   "cell_type": "markdown",
   "metadata": {},
   "source": [
    "### 4.4. Measurement data"
   ]
  },
  {
   "cell_type": "markdown",
   "metadata": {},
   "source": [
    "### 4.4.1. Auxiliary function for retrieving timestamp from files "
   ]
  },
  {
   "cell_type": "code",
   "execution_count": 14,
   "metadata": {},
   "outputs": [],
   "source": [
    "def extract_start_time(file_name, dir_path):\n",
    "    file_path = os.path.join(dir_path, file_name)\n",
    "    metadata_str = None\n",
    "    fp = open(file_path)\n",
    "    \n",
    "    # meta data are on the second line of the file\n",
    "    for i, line in enumerate(fp):\n",
    "        if i == 1:\n",
    "            metadata_str = line\n",
    "            fp.close()\n",
    "            break\n",
    "           \n",
    "    # meta data starts with '# ' and ends with a new line sign\n",
    "    metadata_str = metadata_str[2 : -1]\n",
    "    # the meta data format is consistent with the Python dictionary\n",
    "    metadata_dict = ast.literal_eval(metadata_str)\n",
    "    \n",
    "    # HACK: the acquired dictionary is nested but has only one key on the first level\n",
    "    key_name = list(metadata_dict)[0]\n",
    "    \n",
    "    time_str = metadata_dict[key_name]['time']\n",
    "    date_str = metadata_dict[key_name]['date']\n",
    "    datetime_str = date_str + \",\" + time_str\n",
    "    \n",
    "    return time.mktime(datetime.strptime(datetime_str, \"%Y-%m-%d,%H:%M:%S.%f\").timetuple())"
   ]
  },
  {
   "cell_type": "code",
   "execution_count": 15,
   "metadata": {},
   "outputs": [],
   "source": [
    "BITALINO_start_times = { file_name[:4] : extract_start_time(file_name, BITALINO_RAW_DATA_SOURCE_DIR) for index, file_name in enumerate(BITALINO_RAW_DATA_SAMPLE_FILES) }"
   ]
  },
  {
   "cell_type": "markdown",
   "metadata": {},
   "source": [
    "### 4.4.2. Adding timestamp column"
   ]
  },
  {
   "cell_type": "code",
   "execution_count": 16,
   "metadata": {},
   "outputs": [
    {
     "name": "stdout",
     "output_type": "stream",
     "text": [
      "dict_keys(['9744', '9899', '9926', '9937', '9952'])\n",
      "dict_keys(['9744', '9899', '9926', '9937', '9952'])\n"
     ]
    }
   ],
   "source": [
    "# Available keys\n",
    "print(BITALINO_data.keys())\n",
    "print(BITALINO_start_times.keys())"
   ]
  },
  {
   "cell_type": "code",
   "execution_count": 17,
   "metadata": {},
   "outputs": [],
   "source": [
    "for key, data in BITALINO_data.items():\n",
    "    start_timestamp = BITALINO_start_times[key]\n",
    "    data[\"TIMESTAMP\"] = start_timestamp + data.index"
   ]
  },
  {
   "cell_type": "code",
   "execution_count": 18,
   "metadata": {},
   "outputs": [
    {
     "name": "stdout",
     "output_type": "stream",
     "text": [
      "<class 'pandas.core.frame.DataFrame'>\n",
      "RangeIndex: 4221000 entries, 0 to 4220999\n",
      "Data columns (total 3 columns):\n",
      "EKG          int64\n",
      "GSR          int64\n",
      "TIMESTAMP    float64\n",
      "dtypes: float64(1), int64(2)\n",
      "memory usage: 96.6 MB\n"
     ]
    }
   ],
   "source": [
    "BITALINO_data['9744'].info()"
   ]
  },
  {
   "cell_type": "code",
   "execution_count": 19,
   "metadata": {},
   "outputs": [
    {
     "data": {
      "text/html": [
       "<div>\n",
       "<style scoped>\n",
       "    .dataframe tbody tr th:only-of-type {\n",
       "        vertical-align: middle;\n",
       "    }\n",
       "\n",
       "    .dataframe tbody tr th {\n",
       "        vertical-align: top;\n",
       "    }\n",
       "\n",
       "    .dataframe thead th {\n",
       "        text-align: right;\n",
       "    }\n",
       "</style>\n",
       "<table border=\"1\" class=\"dataframe\">\n",
       "  <thead>\n",
       "    <tr style=\"text-align: right;\">\n",
       "      <th></th>\n",
       "      <th>EKG</th>\n",
       "      <th>GSR</th>\n",
       "      <th>TIMESTAMP</th>\n",
       "    </tr>\n",
       "  </thead>\n",
       "  <tbody>\n",
       "    <tr>\n",
       "      <th>0</th>\n",
       "      <td>506</td>\n",
       "      <td>317</td>\n",
       "      <td>1.554815e+09</td>\n",
       "    </tr>\n",
       "    <tr>\n",
       "      <th>1</th>\n",
       "      <td>506</td>\n",
       "      <td>317</td>\n",
       "      <td>1.554815e+09</td>\n",
       "    </tr>\n",
       "    <tr>\n",
       "      <th>2</th>\n",
       "      <td>504</td>\n",
       "      <td>317</td>\n",
       "      <td>1.554815e+09</td>\n",
       "    </tr>\n",
       "    <tr>\n",
       "      <th>3</th>\n",
       "      <td>504</td>\n",
       "      <td>317</td>\n",
       "      <td>1.554815e+09</td>\n",
       "    </tr>\n",
       "    <tr>\n",
       "      <th>4</th>\n",
       "      <td>504</td>\n",
       "      <td>317</td>\n",
       "      <td>1.554815e+09</td>\n",
       "    </tr>\n",
       "  </tbody>\n",
       "</table>\n",
       "</div>"
      ],
      "text/plain": [
       "   EKG  GSR     TIMESTAMP\n",
       "0  506  317  1.554815e+09\n",
       "1  506  317  1.554815e+09\n",
       "2  504  317  1.554815e+09\n",
       "3  504  317  1.554815e+09\n",
       "4  504  317  1.554815e+09"
      ]
     },
     "execution_count": 19,
     "metadata": {},
     "output_type": "execute_result"
    }
   ],
   "source": [
    "BITALINO_data['9744'].head()"
   ]
  },
  {
   "cell_type": "markdown",
   "metadata": {},
   "source": [
    "### 4.4.3. EKG data preview"
   ]
  },
  {
   "cell_type": "code",
   "execution_count": 20,
   "metadata": {},
   "outputs": [],
   "source": [
    "PREVIEW_LENGHT_SEC = 10"
   ]
  },
  {
   "cell_type": "code",
   "execution_count": 21,
   "metadata": {},
   "outputs": [],
   "source": [
    "preview_dataset = BITALINO_data['9744'].head(BITALINO_SAMPLING_RATE_PER_SEC * PREVIEW_LENGHT_SEC)[\"EKG\"]"
   ]
  },
  {
   "cell_type": "code",
   "execution_count": 22,
   "metadata": {},
   "outputs": [
    {
     "data": {
      "image/png": "[encoded data removed]",
      "text/plain": [
       "<Figure size 1728x576 with 1 Axes>"
      ]
     },
     "metadata": {
      "needs_background": "light"
     },
     "output_type": "display_data"
    }
   ],
   "source": [
    "plt.figure(figsize=(24, 8))\n",
    "plt.title(\"Heart Rate Signal\")\n",
    "plt.xlabel('time (ms)')\n",
    "plt.xlabel('EKG')\n",
    "plt.plot(preview_dataset)\n",
    "plt.grid()\n",
    "plt.show() "
   ]
  },
  {
   "cell_type": "code",
   "execution_count": 23,
   "metadata": {},
   "outputs": [
    {
     "name": "stderr",
     "output_type": "stream",
     "text": [
      "/home/skalskip/Documents/REPOS/ImaBoss/.env/lib/python3.6/site-packages/ipykernel_launcher.py:10: SettingWithCopyWarning: \n",
      "A value is trying to be set on a copy of a slice from a DataFrame.\n",
      "Try using .loc[row_indexer,col_indexer] = value instead\n",
      "\n",
      "See the caveats in the documentation: http://pandas.pydata.org/pandas-docs/stable/indexing.html#indexing-view-versus-copy\n",
      "  # Remove the CWD from sys.path while we load stuff.\n"
     ]
    },
    {
     "data": {
      "image/png": "[encoded data removed]",
      "text/plain": [
       "<Figure size 1728x576 with 1 Axes>"
      ]
     },
     "metadata": {
      "needs_background": "light"
     },
     "output_type": "display_data"
    }
   ],
   "source": [
    "dataset = BITALINO_data['9744'].head(20000)\n",
    "#Calculate moving average with 0.75s in both directions, then append do dataset\n",
    "hrw = 0.75 #One-sided window size, as proportion of the sampling frequency\n",
    "fs = 1000 #The example dataset was recorded at 100Hz\n",
    "mov_avg = dataset['EKG'].rolling(int(hrw*fs)).mean() #Calculate moving average\n",
    "#Impute where moving average function returns NaN, which is the beginning of the signal where x hrw\n",
    "avg_hr = (np.mean(dataset['EKG']))\n",
    "mov_avg = [avg_hr if math.isnan(x) else x for x in mov_avg]\n",
    "mov_avg = [x*1.2 for x in mov_avg] #For now we raise the average by 20% to prevent the secondary heart contraction from interfering, in part 2 we will do this dynamically\n",
    "dataset['hart_rollingmean'] = mov_avg #Append the moving average to the dataframe\n",
    "#Mark regions of interest\n",
    "window = []\n",
    "peaklist = []\n",
    "listpos = 0 #We use a counter to move over the different data columns\n",
    "for datapoint in dataset['EKG']:\n",
    "    rollingmean = dataset['hart_rollingmean'][listpos] #Get local mean\n",
    "    if (datapoint < rollingmean) and (len(window) < 1): #If no detectable R-complex activity -> do nothing\n",
    "        listpos += 1\n",
    "    elif (datapoint > rollingmean): #If signal comes above local mean, mark ROI\n",
    "        window.append(datapoint)\n",
    "        listpos += 1\n",
    "    else: #If signal drops below local mean -> determine highest point\n",
    "        maximum = max(window)\n",
    "        beatposition = listpos - len(window) + (window.index(max(window))) #Notate the position of the point on the X-axis\n",
    "        peaklist.append(beatposition) #Add detected peak to list\n",
    "        window = [] #Clear marked ROI\n",
    "        listpos += 1\n",
    "ybeat = [dataset['EKG'][x] for x in peaklist] #Get the y-value of all peaks for plotting purposes\n",
    "plt.figure(figsize=(24, 8))\n",
    "plt.title(\"Detected peaks in signal\")\n",
    "plt.plot(dataset['EKG'], alpha=0.5, color='blue') #Plot semi-transparent HR\n",
    "plt.plot(mov_avg, color ='green') #Plot moving average\n",
    "plt.scatter(peaklist, ybeat, color='red') #Plot detected peaks\n",
    "plt.show()"
   ]
  },
  {
   "cell_type": "code",
   "execution_count": 24,
   "metadata": {},
   "outputs": [
    {
     "name": "stdout",
     "output_type": "stream",
     "text": [
      "77.99906401123187\n"
     ]
    }
   ],
   "source": [
    "RR_list = []\n",
    "cnt = 0\n",
    "while (cnt < (len(peaklist)-1)):\n",
    "    RR_interval = (peaklist[cnt+1] - peaklist[cnt]) #Calculate distance between beats in # of samples\n",
    "    ms_dist = ((RR_interval / fs) * 1000.0) #Convert sample distances to ms distances\n",
    "    RR_list.append(ms_dist) #Append to list\n",
    "    cnt += 1\n",
    "bpm = 60000 / np.mean(RR_list) #60000 ms (1 minute) / average R-R interval of signal\n",
    "print(bpm)"
   ]
  },
  {
   "cell_type": "code",
   "execution_count": 25,
   "metadata": {},
   "outputs": [],
   "source": [
    "preview_dataset = BITALINO_data['9744'].head(BITALINO_SAMPLING_RATE_PER_SEC * PREVIEW_LENGHT_SEC)[\"GSR\"]"
   ]
  },
  {
   "cell_type": "code",
   "execution_count": 26,
   "metadata": {},
   "outputs": [
    {
     "data": {
      "image/png": "[encoded data removed]",
      "text/plain": [
       "<Figure size 1728x576 with 1 Axes>"
      ]
     },
     "metadata": {
      "needs_background": "light"
     },
     "output_type": "display_data"
    }
   ],
   "source": [
    "plt.figure(figsize=(24, 8))\n",
    "plt.title(\"GSR\")\n",
    "plt.xlabel('time (ms)')\n",
    "plt.xlabel('GSR')\n",
    "plt.plot(preview_dataset)\n",
    "plt.grid()\n",
    "plt.show() "
   ]
  },
  {
   "cell_type": "markdown",
   "metadata": {},
   "source": [
    "### 4.5. Procedure data"
   ]
  },
  {
   "cell_type": "code",
   "execution_count": 27,
   "metadata": {},
   "outputs": [
    {
     "name": "stdout",
     "output_type": "stream",
     "text": [
      "dict_keys(['9744', '9899', '9926', '9937', '9952'])\n"
     ]
    }
   ],
   "source": [
    "# Available keys\n",
    "print(PROCEDURE_data.keys())"
   ]
  },
  {
   "cell_type": "code",
   "execution_count": 28,
   "metadata": {},
   "outputs": [
    {
     "name": "stdout",
     "output_type": "stream",
     "text": [
      "<class 'pandas.core.frame.DataFrame'>\n",
      "RangeIndex: 120 entries, 0 to 119\n",
      "Data columns (total 8 columns):\n",
      "CONDITION          120 non-null object\n",
      "SPEC_CONDITION     120 non-null object\n",
      "SOUND_NUM          120 non-null int64\n",
      "IMAGE_NUM          120 non-null int64\n",
      "WIDGET_TYPE        120 non-null object\n",
      "WIDGET_RESPONSE    120 non-null object\n",
      "RESPONSE_TIME      120 non-null object\n",
      "TIMESTAMP          120 non-null float64\n",
      "dtypes: float64(1), int64(2), object(5)\n",
      "memory usage: 7.6+ KB\n"
     ]
    }
   ],
   "source": [
    "PROCEDURE_data['9744'].info()"
   ]
  },
  {
   "cell_type": "code",
   "execution_count": 29,
   "metadata": {},
   "outputs": [
    {
     "data": {
      "text/html": [
       "<div>\n",
       "<style scoped>\n",
       "    .dataframe tbody tr th:only-of-type {\n",
       "        vertical-align: middle;\n",
       "    }\n",
       "\n",
       "    .dataframe tbody tr th {\n",
       "        vertical-align: top;\n",
       "    }\n",
       "\n",
       "    .dataframe thead th {\n",
       "        text-align: right;\n",
       "    }\n",
       "</style>\n",
       "<table border=\"1\" class=\"dataframe\">\n",
       "  <thead>\n",
       "    <tr style=\"text-align: right;\">\n",
       "      <th></th>\n",
       "      <th>CONDITION</th>\n",
       "      <th>SPEC_CONDITION</th>\n",
       "      <th>SOUND_NUM</th>\n",
       "      <th>IMAGE_NUM</th>\n",
       "      <th>WIDGET_TYPE</th>\n",
       "      <th>WIDGET_RESPONSE</th>\n",
       "      <th>RESPONSE_TIME</th>\n",
       "      <th>TIMESTAMP</th>\n",
       "    </tr>\n",
       "  </thead>\n",
       "  <tbody>\n",
       "    <tr>\n",
       "      <th>0</th>\n",
       "      <td>inc</td>\n",
       "      <td>p+s-</td>\n",
       "      <td>502</td>\n",
       "      <td>8034</td>\n",
       "      <td>emoscale1</td>\n",
       "      <td>3</td>\n",
       "      <td>None</td>\n",
       "      <td>1.554815e+09</td>\n",
       "    </tr>\n",
       "    <tr>\n",
       "      <th>1</th>\n",
       "      <td>con</td>\n",
       "      <td>p0s0</td>\n",
       "      <td>120</td>\n",
       "      <td>1945</td>\n",
       "      <td>emoscale1</td>\n",
       "      <td>2.0</td>\n",
       "      <td>0.33376046287230565</td>\n",
       "      <td>1.554815e+09</td>\n",
       "    </tr>\n",
       "    <tr>\n",
       "      <th>2</th>\n",
       "      <td>con</td>\n",
       "      <td>p-s-</td>\n",
       "      <td>624</td>\n",
       "      <td>9902</td>\n",
       "      <td>emoscale1</td>\n",
       "      <td>2.0</td>\n",
       "      <td>0.3170798987375747</td>\n",
       "      <td>1.554815e+09</td>\n",
       "    </tr>\n",
       "    <tr>\n",
       "      <th>3</th>\n",
       "      <td>inc</td>\n",
       "      <td>p+s-</td>\n",
       "      <td>624</td>\n",
       "      <td>4652</td>\n",
       "      <td>emoscale1</td>\n",
       "      <td>4.0</td>\n",
       "      <td>0.6675173238108982</td>\n",
       "      <td>1.554815e+09</td>\n",
       "    </tr>\n",
       "    <tr>\n",
       "      <th>4</th>\n",
       "      <td>inc</td>\n",
       "      <td>p+s-</td>\n",
       "      <td>312</td>\n",
       "      <td>8370</td>\n",
       "      <td>emoscale1</td>\n",
       "      <td>3</td>\n",
       "      <td>None</td>\n",
       "      <td>1.554815e+09</td>\n",
       "    </tr>\n",
       "  </tbody>\n",
       "</table>\n",
       "</div>"
      ],
      "text/plain": [
       "  CONDITION SPEC_CONDITION  SOUND_NUM  IMAGE_NUM WIDGET_TYPE WIDGET_RESPONSE  \\\n",
       "0       inc           p+s-        502       8034   emoscale1               3   \n",
       "1       con           p0s0        120       1945   emoscale1             2.0   \n",
       "2       con           p-s-        624       9902   emoscale1             2.0   \n",
       "3       inc           p+s-        624       4652   emoscale1             4.0   \n",
       "4       inc           p+s-        312       8370   emoscale1               3   \n",
       "\n",
       "         RESPONSE_TIME     TIMESTAMP  \n",
       "0                 None  1.554815e+09  \n",
       "1  0.33376046287230565  1.554815e+09  \n",
       "2   0.3170798987375747  1.554815e+09  \n",
       "3   0.6675173238108982  1.554815e+09  \n",
       "4                 None  1.554815e+09  "
      ]
     },
     "execution_count": 29,
     "metadata": {},
     "output_type": "execute_result"
    }
   ],
   "source": [
    "PROCEDURE_data['9744'].head()"
   ]
  },
  {
   "cell_type": "markdown",
   "metadata": {},
   "source": [
    "### 4.5.1. Feature engineering"
   ]
  },
  {
   "cell_type": "code",
   "execution_count": 30,
   "metadata": {},
   "outputs": [],
   "source": [
    "def spec_condition_helper(x):\n",
    "    if x=='-':\n",
    "        return(0)\n",
    "    elif x=='0':\n",
    "        return(1)\n",
    "    elif x=='+':\n",
    "        return(2)"
   ]
  },
  {
   "cell_type": "code",
   "execution_count": 32,
   "metadata": {},
   "outputs": [],
   "source": [
    "for key, data in PROCEDURE_data.items():\n",
    "    data[\"CONSISTENT\"] = data['CONDITION'].apply(lambda x: x==\"con\").astype(int)\n",
    "    data[\"IMAGE_ATTRIBUTE\"] = data['SPEC_CONDITION'].apply(lambda x: spec_condition_helper(x[1])).astype(int)\n",
    "    data[\"SOUND_ATTRIBUTE\"] = data['SPEC_CONDITION'].apply(lambda x: spec_condition_helper(x[3])).astype(int)\n",
    "    data[\"WIDGET_TYPE\"] = data[\"WIDGET_TYPE\"].apply(lambda x: x==\"emoscale1\").astype(int)\n",
    "    data.drop([\"Description\", \"set\"], axis=1)"
   ]
  },
  {
   "cell_type": "code",
   "execution_count": 33,
   "metadata": {},
   "outputs": [
    {
     "data": {
      "text/html": [
       "<div>\n",
       "<style scoped>\n",
       "    .dataframe tbody tr th:only-of-type {\n",
       "        vertical-align: middle;\n",
       "    }\n",
       "\n",
       "    .dataframe tbody tr th {\n",
       "        vertical-align: top;\n",
       "    }\n",
       "\n",
       "    .dataframe thead th {\n",
       "        text-align: right;\n",
       "    }\n",
       "</style>\n",
       "<table border=\"1\" class=\"dataframe\">\n",
       "  <thead>\n",
       "    <tr style=\"text-align: right;\">\n",
       "      <th></th>\n",
       "      <th>CONDITION</th>\n",
       "      <th>SPEC_CONDITION</th>\n",
       "      <th>SOUND_NUM</th>\n",
       "      <th>IMAGE_NUM</th>\n",
       "      <th>WIDGET_TYPE</th>\n",
       "      <th>WIDGET_RESPONSE</th>\n",
       "      <th>RESPONSE_TIME</th>\n",
       "      <th>TIMESTAMP</th>\n",
       "      <th>CONSISTENT</th>\n",
       "      <th>IMAGE_ATTRIBUTE</th>\n",
       "      <th>SOUND_ATTRIBUTE</th>\n",
       "    </tr>\n",
       "  </thead>\n",
       "  <tbody>\n",
       "    <tr>\n",
       "      <th>0</th>\n",
       "      <td>inc</td>\n",
       "      <td>p+s-</td>\n",
       "      <td>502</td>\n",
       "      <td>8034</td>\n",
       "      <td>1</td>\n",
       "      <td>3</td>\n",
       "      <td>None</td>\n",
       "      <td>1.554815e+09</td>\n",
       "      <td>0</td>\n",
       "      <td>2</td>\n",
       "      <td>0</td>\n",
       "    </tr>\n",
       "    <tr>\n",
       "      <th>1</th>\n",
       "      <td>con</td>\n",
       "      <td>p0s0</td>\n",
       "      <td>120</td>\n",
       "      <td>1945</td>\n",
       "      <td>1</td>\n",
       "      <td>2.0</td>\n",
       "      <td>0.33376046287230565</td>\n",
       "      <td>1.554815e+09</td>\n",
       "      <td>1</td>\n",
       "      <td>1</td>\n",
       "      <td>1</td>\n",
       "    </tr>\n",
       "    <tr>\n",
       "      <th>2</th>\n",
       "      <td>con</td>\n",
       "      <td>p-s-</td>\n",
       "      <td>624</td>\n",
       "      <td>9902</td>\n",
       "      <td>1</td>\n",
       "      <td>2.0</td>\n",
       "      <td>0.3170798987375747</td>\n",
       "      <td>1.554815e+09</td>\n",
       "      <td>1</td>\n",
       "      <td>0</td>\n",
       "      <td>0</td>\n",
       "    </tr>\n",
       "    <tr>\n",
       "      <th>3</th>\n",
       "      <td>inc</td>\n",
       "      <td>p+s-</td>\n",
       "      <td>624</td>\n",
       "      <td>4652</td>\n",
       "      <td>1</td>\n",
       "      <td>4.0</td>\n",
       "      <td>0.6675173238108982</td>\n",
       "      <td>1.554815e+09</td>\n",
       "      <td>0</td>\n",
       "      <td>2</td>\n",
       "      <td>0</td>\n",
       "    </tr>\n",
       "    <tr>\n",
       "      <th>4</th>\n",
       "      <td>inc</td>\n",
       "      <td>p+s-</td>\n",
       "      <td>312</td>\n",
       "      <td>8370</td>\n",
       "      <td>1</td>\n",
       "      <td>3</td>\n",
       "      <td>None</td>\n",
       "      <td>1.554815e+09</td>\n",
       "      <td>0</td>\n",
       "      <td>2</td>\n",
       "      <td>0</td>\n",
       "    </tr>\n",
       "  </tbody>\n",
       "</table>\n",
       "</div>"
      ],
      "text/plain": [
       "  CONDITION SPEC_CONDITION  SOUND_NUM  IMAGE_NUM  WIDGET_TYPE WIDGET_RESPONSE  \\\n",
       "0       inc           p+s-        502       8034            1               3   \n",
       "1       con           p0s0        120       1945            1             2.0   \n",
       "2       con           p-s-        624       9902            1             2.0   \n",
       "3       inc           p+s-        624       4652            1             4.0   \n",
       "4       inc           p+s-        312       8370            1               3   \n",
       "\n",
       "         RESPONSE_TIME     TIMESTAMP  CONSISTENT  IMAGE_ATTRIBUTE  \\\n",
       "0                 None  1.554815e+09           0                2   \n",
       "1  0.33376046287230565  1.554815e+09           1                1   \n",
       "2   0.3170798987375747  1.554815e+09           1                0   \n",
       "3   0.6675173238108982  1.554815e+09           0                2   \n",
       "4                 None  1.554815e+09           0                2   \n",
       "\n",
       "   SOUND_ATTRIBUTE  \n",
       "0                0  \n",
       "1                1  \n",
       "2                0  \n",
       "3                0  \n",
       "4                0  "
      ]
     },
     "execution_count": 33,
     "metadata": {},
     "output_type": "execute_result"
    }
   ],
   "source": [
    "PROCEDURE_data['9744'].head()"
   ]
  }
 ],
 "metadata": {
  "kernelspec": {
   "display_name": "Python 3",
   "language": "python",
   "name": "python3"
  },
  "language_info": {
   "codemirror_mode": {
    "name": "ipython",
    "version": 3
   },
   "file_extension": ".py",
   "mimetype": "text/x-python",
   "name": "python",
   "nbconvert_exporter": "python",
   "pygments_lexer": "ipython3",
   "version": "3.6.7"
  }
 },
 "nbformat": 4,
 "nbformat_minor": 2
}
