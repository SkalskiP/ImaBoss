{
 "cells": [
  {
   "cell_type": "markdown",
   "metadata": {},
   "source": [
    "# EDA\n",
    "---\n",
    "**08.05.2019**"
   ]
  },
  {
   "cell_type": "markdown",
   "metadata": {},
   "source": [
    "## 1. Imports"
   ]
  },
  {
   "cell_type": "code",
   "execution_count": 1,
   "metadata": {},
   "outputs": [],
   "source": [
    "import numpy as np\n",
    "import pandas as pd\n",
    "import matplotlib\n",
    "import matplotlib.pyplot as plt\n",
    "import os\n",
    "import gc\n",
    "import ast\n",
    "import time\n",
    "from datetime import datetime\n",
    "%matplotlib inline"
   ]
  },
  {
   "cell_type": "markdown",
   "metadata": {},
   "source": [
    "## 2. Settings"
   ]
  },
  {
   "cell_type": "code",
   "execution_count": 2,
   "metadata": {},
   "outputs": [],
   "source": [
    "RAW_DATA_SOURCE_DIR = \"./data/raw_data/bitalino\"\n",
    "RAW_DATA_SAMPLE_FILES = [\n",
    "    '9744_opensignals_prawestanowisko_2019-04-09_15-03-06.txt',\n",
    "    '9899_opensignals_prawestanowisko_2019-04-10_09-12-47.txt',\n",
    "    '9926_opensignals_prawestanowisko_2019-04-16_09-22-08.txt',\n",
    "    '9937_opensignals_prawestanowisko_2019-04-16_10-53-40.txt',\n",
    "    '9952_opensignals_prawestanowisko_2019-04-11_12-15-54.txt'\n",
    "]\n",
    "COLUMNS_TO_USE = [5, 6]\n",
    "COLUMN_NAMES = [\"EKG\", \"GSR\"]\n",
    "SAMPLING_RATE = 1000"
   ]
  },
  {
   "cell_type": "markdown",
   "metadata": {},
   "source": [
    "## 3. Load Data"
   ]
  },
  {
   "cell_type": "code",
   "execution_count": 5,
   "metadata": {},
   "outputs": [],
   "source": [
    "def load_data(file_name, dir_path):\n",
    "    file_path = os.path.join(dir_path, file_name)\n",
    "    return pd.read_csv(file_path,sep=\"\\t\", skiprows=3, usecols=COLUMNS_TO_USE, names=COLUMN_NAMES, header=None)"
   ]
  },
  {
   "cell_type": "code",
   "execution_count": 6,
   "metadata": {},
   "outputs": [],
   "source": [
    "IAPS_data = pd.read_csv(\"./data/IAPS.csv\",sep=\";\")\n",
    "IADS2_data = pd.read_csv(\"./data/IADS2.csv\",sep=\";\")\n",
    "NEOFFI_data = pd.read_csv(\"./data/NEO-FFI.txt\",sep=\"\\t\")\n",
    "\n",
    "BITALINO_data = { file_name[:4] : load_data(file_name, RAW_DATA_SOURCE_DIR) for index, file_name in enumerate(RAW_DATA_SAMPLE_FILES) }"
   ]
  },
  {
   "cell_type": "markdown",
   "metadata": {},
   "source": [
    "## 4. Data preprocessing"
   ]
  },
  {
   "cell_type": "markdown",
   "metadata": {},
   "source": [
    "### 4.1. International Affective Picture System"
   ]
  },
  {
   "cell_type": "code",
   "execution_count": 7,
   "metadata": {},
   "outputs": [
    {
     "name": "stdout",
     "output_type": "stream",
     "text": [
      "<class 'pandas.core.frame.DataFrame'>\n",
      "RangeIndex: 1194 entries, 0 to 1193\n",
      "Data columns (total 7 columns):\n",
      "Description    1194 non-null object\n",
      "IAPS           1194 non-null object\n",
      "ValenceMean    1194 non-null object\n",
      "ValenceSD      1194 non-null object\n",
      "ArousalMean    1194 non-null object\n",
      "ArousalSD      1194 non-null object\n",
      "set            1194 non-null int64\n",
      "dtypes: int64(1), object(6)\n",
      "memory usage: 65.4+ KB\n"
     ]
    }
   ],
   "source": [
    "IAPS_data.info()"
   ]
  },
  {
   "cell_type": "code",
   "execution_count": 8,
   "metadata": {},
   "outputs": [
    {
     "data": {
      "text/html": [
       "<div>\n",
       "<style scoped>\n",
       "    .dataframe tbody tr th:only-of-type {\n",
       "        vertical-align: middle;\n",
       "    }\n",
       "\n",
       "    .dataframe tbody tr th {\n",
       "        vertical-align: top;\n",
       "    }\n",
       "\n",
       "    .dataframe thead th {\n",
       "        text-align: right;\n",
       "    }\n",
       "</style>\n",
       "<table border=\"1\" class=\"dataframe\">\n",
       "  <thead>\n",
       "    <tr style=\"text-align: right;\">\n",
       "      <th></th>\n",
       "      <th>Description</th>\n",
       "      <th>IAPS</th>\n",
       "      <th>ValenceMean</th>\n",
       "      <th>ValenceSD</th>\n",
       "      <th>ArousalMean</th>\n",
       "      <th>ArousalSD</th>\n",
       "      <th>set</th>\n",
       "    </tr>\n",
       "  </thead>\n",
       "  <tbody>\n",
       "    <tr>\n",
       "      <th>0</th>\n",
       "      <td>Snake</td>\n",
       "      <td>1019</td>\n",
       "      <td>3,95</td>\n",
       "      <td>1,96</td>\n",
       "      <td>5,77</td>\n",
       "      <td>1,83</td>\n",
       "      <td>12</td>\n",
       "    </tr>\n",
       "    <tr>\n",
       "      <th>1</th>\n",
       "      <td>Snake</td>\n",
       "      <td>1022</td>\n",
       "      <td>4,26</td>\n",
       "      <td>2,04</td>\n",
       "      <td>6,02</td>\n",
       "      <td>1,97</td>\n",
       "      <td>12</td>\n",
       "    </tr>\n",
       "    <tr>\n",
       "      <th>2</th>\n",
       "      <td>Snake</td>\n",
       "      <td>1026</td>\n",
       "      <td>4,09</td>\n",
       "      <td>1,91</td>\n",
       "      <td>5,61</td>\n",
       "      <td>2,23</td>\n",
       "      <td>16</td>\n",
       "    </tr>\n",
       "    <tr>\n",
       "      <th>3</th>\n",
       "      <td>Snake</td>\n",
       "      <td>1030</td>\n",
       "      <td>4,3</td>\n",
       "      <td>2,35</td>\n",
       "      <td>5,46</td>\n",
       "      <td>2,43</td>\n",
       "      <td>1</td>\n",
       "    </tr>\n",
       "    <tr>\n",
       "      <th>4</th>\n",
       "      <td>Snake</td>\n",
       "      <td>1033</td>\n",
       "      <td>3,87</td>\n",
       "      <td>1,94</td>\n",
       "      <td>6,13</td>\n",
       "      <td>2,15</td>\n",
       "      <td>18</td>\n",
       "    </tr>\n",
       "  </tbody>\n",
       "</table>\n",
       "</div>"
      ],
      "text/plain": [
       "  Description  IAPS ValenceMean ValenceSD ArousalMean ArousalSD  set\n",
       "0       Snake  1019        3,95      1,96        5,77      1,83   12\n",
       "1       Snake  1022        4,26      2,04        6,02      1,97   12\n",
       "2       Snake  1026        4,09      1,91        5,61      2,23   16\n",
       "3       Snake  1030         4,3      2,35        5,46      2,43    1\n",
       "4       Snake  1033        3,87      1,94        6,13      2,15   18"
      ]
     },
     "execution_count": 8,
     "metadata": {},
     "output_type": "execute_result"
    }
   ],
   "source": [
    "IAPS_data.head()"
   ]
  },
  {
   "cell_type": "markdown",
   "metadata": {},
   "source": [
    "**NOTE:** \n",
    "* The numbers in ValenceMean, ValenceSD, ArousalMean and ArousalSD columns are written with commas. They have to be replaced with dots and loaded as float."
   ]
  },
  {
   "cell_type": "code",
   "execution_count": 9,
   "metadata": {},
   "outputs": [],
   "source": [
    "IAPS_data['ValenceMean'] = IAPS_data['ValenceMean'].apply(lambda x: x.replace(',','.')).astype(float)\n",
    "IAPS_data['ValenceSD'] = IAPS_data['ValenceSD'].apply(lambda x: x.replace(',','.')).astype(float)\n",
    "IAPS_data['ArousalMean'] = IAPS_data['ArousalMean'].apply(lambda x: x.replace(',','.')).astype(float)\n",
    "IAPS_data['ArousalSD'] = IAPS_data['ArousalSD'].apply(lambda x: x.replace(',','.')).astype(float)"
   ]
  },
  {
   "cell_type": "code",
   "execution_count": 10,
   "metadata": {},
   "outputs": [
    {
     "name": "stdout",
     "output_type": "stream",
     "text": [
      "<class 'pandas.core.frame.DataFrame'>\n",
      "RangeIndex: 1194 entries, 0 to 1193\n",
      "Data columns (total 7 columns):\n",
      "Description    1194 non-null object\n",
      "IAPS           1194 non-null object\n",
      "ValenceMean    1194 non-null float64\n",
      "ValenceSD      1194 non-null float64\n",
      "ArousalMean    1194 non-null float64\n",
      "ArousalSD      1194 non-null float64\n",
      "set            1194 non-null int64\n",
      "dtypes: float64(4), int64(1), object(2)\n",
      "memory usage: 65.4+ KB\n"
     ]
    }
   ],
   "source": [
    "IAPS_data.info()"
   ]
  },
  {
   "cell_type": "markdown",
   "metadata": {},
   "source": [
    "### 4.2. International Affective Digitized Sounds (2nd Edition)"
   ]
  },
  {
   "cell_type": "code",
   "execution_count": 11,
   "metadata": {},
   "outputs": [
    {
     "name": "stdout",
     "output_type": "stream",
     "text": [
      "<class 'pandas.core.frame.DataFrame'>\n",
      "RangeIndex: 167 entries, 0 to 166\n",
      "Data columns (total 6 columns):\n",
      "Sound          167 non-null object\n",
      "Number         167 non-null int64\n",
      "ValenceMean    167 non-null float64\n",
      "ValenceSD      167 non-null float64\n",
      "ArousalMean    167 non-null float64\n",
      "ArousalSD      167 non-null float64\n",
      "dtypes: float64(4), int64(1), object(1)\n",
      "memory usage: 7.9+ KB\n"
     ]
    }
   ],
   "source": [
    "IADS2_data.info()"
   ]
  },
  {
   "cell_type": "code",
   "execution_count": 12,
   "metadata": {},
   "outputs": [
    {
     "data": {
      "text/html": [
       "<div>\n",
       "<style scoped>\n",
       "    .dataframe tbody tr th:only-of-type {\n",
       "        vertical-align: middle;\n",
       "    }\n",
       "\n",
       "    .dataframe tbody tr th {\n",
       "        vertical-align: top;\n",
       "    }\n",
       "\n",
       "    .dataframe thead th {\n",
       "        text-align: right;\n",
       "    }\n",
       "</style>\n",
       "<table border=\"1\" class=\"dataframe\">\n",
       "  <thead>\n",
       "    <tr style=\"text-align: right;\">\n",
       "      <th></th>\n",
       "      <th>Sound</th>\n",
       "      <th>Number</th>\n",
       "      <th>ValenceMean</th>\n",
       "      <th>ValenceSD</th>\n",
       "      <th>ArousalMean</th>\n",
       "      <th>ArousalSD</th>\n",
       "    </tr>\n",
       "  </thead>\n",
       "  <tbody>\n",
       "    <tr>\n",
       "      <th>0</th>\n",
       "      <td>Cat</td>\n",
       "      <td>102</td>\n",
       "      <td>4.63</td>\n",
       "      <td>2.17</td>\n",
       "      <td>4.91</td>\n",
       "      <td>1.97</td>\n",
       "    </tr>\n",
       "    <tr>\n",
       "      <th>1</th>\n",
       "      <td>Panting</td>\n",
       "      <td>104</td>\n",
       "      <td>4.96</td>\n",
       "      <td>1.68</td>\n",
       "      <td>5.37</td>\n",
       "      <td>1.66</td>\n",
       "    </tr>\n",
       "    <tr>\n",
       "      <th>2</th>\n",
       "      <td>Puppy</td>\n",
       "      <td>105</td>\n",
       "      <td>2.88</td>\n",
       "      <td>2.14</td>\n",
       "      <td>6.40</td>\n",
       "      <td>2.13</td>\n",
       "    </tr>\n",
       "    <tr>\n",
       "      <th>3</th>\n",
       "      <td>Growl1</td>\n",
       "      <td>106</td>\n",
       "      <td>3.37</td>\n",
       "      <td>1.64</td>\n",
       "      <td>6.39</td>\n",
       "      <td>1.62</td>\n",
       "    </tr>\n",
       "    <tr>\n",
       "      <th>4</th>\n",
       "      <td>Dog</td>\n",
       "      <td>107</td>\n",
       "      <td>5.47</td>\n",
       "      <td>2.22</td>\n",
       "      <td>5.85</td>\n",
       "      <td>1.81</td>\n",
       "    </tr>\n",
       "  </tbody>\n",
       "</table>\n",
       "</div>"
      ],
      "text/plain": [
       "     Sound  Number  ValenceMean  ValenceSD  ArousalMean  ArousalSD\n",
       "0      Cat     102         4.63       2.17         4.91       1.97\n",
       "1  Panting     104         4.96       1.68         5.37       1.66\n",
       "2    Puppy     105         2.88       2.14         6.40       2.13\n",
       "3   Growl1     106         3.37       1.64         6.39       1.62\n",
       "4      Dog     107         5.47       2.22         5.85       1.81"
      ]
     },
     "execution_count": 12,
     "metadata": {},
     "output_type": "execute_result"
    }
   ],
   "source": [
    "IADS2_data.head()"
   ]
  },
  {
   "cell_type": "markdown",
   "metadata": {},
   "source": [
    "### 4.3. Personality questionnaire results"
   ]
  },
  {
   "cell_type": "markdown",
   "metadata": {},
   "source": [
    "* **OTW** - Openness to experience - is a general appreciation for art, emotion, adventure, unusual ideas, imagination, curiosity, and variety of experience. People who are open to experience are intellectually curious, open to emotion, sensitive to beauty and willing to try new things. They tend to be, when compared to closed people, more creative and more aware of their feelings. They are also more likely to hold unconventional beliefs.\n",
    "\n",
    "* **SUM** - Conscientiousness -  is a tendency to display self-discipline, act dutifully, and strive for achievement against measures or outside expectations. It is related to the way in which people control, regulate, and direct their impulses. High scores on conscientiousness indicate a preference for planned rather than spontaneous behavior. The average level of conscientiousness rises among young adults and then declines among older adults.\n",
    "\n",
    "* **NEU** - Neuroticism - is the tendency to experience negative emotions, such as anger, anxiety, or depression. It is sometimes called emotional instability, or is reversed and referred to as emotional stability.\n",
    "\n",
    "* **UGD** - Agreeableness - eflects individual differences in general concern for social harmony. Agreeable individuals value getting along with others. They are generally considerate, kind, generous, trusting and trustworthy, helpful, and willing to compromise their interests with others. Agreeable people also have an optimistic view of human nature.\n",
    "\n",
    "* **EKST** - Extraversion - is characterized by breadth of activities (as opposed to depth), surgency from external activity/situations, and energy creation from external means. The trait is marked by pronounced engagement with the external world."
   ]
  },
  {
   "cell_type": "code",
   "execution_count": 13,
   "metadata": {},
   "outputs": [
    {
     "name": "stdout",
     "output_type": "stream",
     "text": [
      "<class 'pandas.core.frame.DataFrame'>\n",
      "RangeIndex: 79 entries, 0 to 78\n",
      "Data columns (total 8 columns):\n",
      "ID      79 non-null int64\n",
      "AGE     79 non-null int64\n",
      "SEX     79 non-null object\n",
      "OTW     79 non-null int64\n",
      "SUM     79 non-null int64\n",
      "NEU     79 non-null int64\n",
      "UGD     79 non-null int64\n",
      "EKST    79 non-null int64\n",
      "dtypes: int64(7), object(1)\n",
      "memory usage: 5.0+ KB\n"
     ]
    }
   ],
   "source": [
    "NEOFFI_data.info()"
   ]
  },
  {
   "cell_type": "code",
   "execution_count": 14,
   "metadata": {},
   "outputs": [
    {
     "data": {
      "text/html": [
       "<div>\n",
       "<style scoped>\n",
       "    .dataframe tbody tr th:only-of-type {\n",
       "        vertical-align: middle;\n",
       "    }\n",
       "\n",
       "    .dataframe tbody tr th {\n",
       "        vertical-align: top;\n",
       "    }\n",
       "\n",
       "    .dataframe thead th {\n",
       "        text-align: right;\n",
       "    }\n",
       "</style>\n",
       "<table border=\"1\" class=\"dataframe\">\n",
       "  <thead>\n",
       "    <tr style=\"text-align: right;\">\n",
       "      <th></th>\n",
       "      <th>ID</th>\n",
       "      <th>AGE</th>\n",
       "      <th>SEX</th>\n",
       "      <th>OTW</th>\n",
       "      <th>SUM</th>\n",
       "      <th>NEU</th>\n",
       "      <th>UGD</th>\n",
       "      <th>EKST</th>\n",
       "    </tr>\n",
       "  </thead>\n",
       "  <tbody>\n",
       "    <tr>\n",
       "      <th>0</th>\n",
       "      <td>1107</td>\n",
       "      <td>21</td>\n",
       "      <td>F</td>\n",
       "      <td>4</td>\n",
       "      <td>6</td>\n",
       "      <td>3</td>\n",
       "      <td>4</td>\n",
       "      <td>10</td>\n",
       "    </tr>\n",
       "    <tr>\n",
       "      <th>1</th>\n",
       "      <td>1153</td>\n",
       "      <td>22</td>\n",
       "      <td>F</td>\n",
       "      <td>5</td>\n",
       "      <td>3</td>\n",
       "      <td>8</td>\n",
       "      <td>3</td>\n",
       "      <td>8</td>\n",
       "    </tr>\n",
       "    <tr>\n",
       "      <th>2</th>\n",
       "      <td>1233</td>\n",
       "      <td>21</td>\n",
       "      <td>F</td>\n",
       "      <td>6</td>\n",
       "      <td>8</td>\n",
       "      <td>2</td>\n",
       "      <td>10</td>\n",
       "      <td>7</td>\n",
       "    </tr>\n",
       "    <tr>\n",
       "      <th>3</th>\n",
       "      <td>1400</td>\n",
       "      <td>22</td>\n",
       "      <td>M</td>\n",
       "      <td>4</td>\n",
       "      <td>6</td>\n",
       "      <td>6</td>\n",
       "      <td>6</td>\n",
       "      <td>5</td>\n",
       "    </tr>\n",
       "    <tr>\n",
       "      <th>4</th>\n",
       "      <td>1402</td>\n",
       "      <td>27</td>\n",
       "      <td>F</td>\n",
       "      <td>9</td>\n",
       "      <td>7</td>\n",
       "      <td>7</td>\n",
       "      <td>4</td>\n",
       "      <td>7</td>\n",
       "    </tr>\n",
       "  </tbody>\n",
       "</table>\n",
       "</div>"
      ],
      "text/plain": [
       "     ID  AGE SEX  OTW  SUM  NEU  UGD  EKST\n",
       "0  1107   21   F    4    6    3    4    10\n",
       "1  1153   22   F    5    3    8    3     8\n",
       "2  1233   21   F    6    8    2   10     7\n",
       "3  1400   22   M    4    6    6    6     5\n",
       "4  1402   27   F    9    7    7    4     7"
      ]
     },
     "execution_count": 14,
     "metadata": {},
     "output_type": "execute_result"
    }
   ],
   "source": [
    "NEOFFI_data.head()"
   ]
  },
  {
   "cell_type": "markdown",
   "metadata": {},
   "source": [
    "### 4.4. Measurement data"
   ]
  },
  {
   "cell_type": "markdown",
   "metadata": {},
   "source": [
    "### 4.4.1. Auxiliary function for retrieving timestamp from files "
   ]
  },
  {
   "cell_type": "code",
   "execution_count": 15,
   "metadata": {},
   "outputs": [],
   "source": [
    "def extract_start_time(file_name, dir_path):\n",
    "    file_path = os.path.join(dir_path, file_name)\n",
    "    metadata_str = None\n",
    "    fp = open(file_path)\n",
    "    \n",
    "    # meta data are on the second line of the file\n",
    "    for i, line in enumerate(fp):\n",
    "        if i == 1:\n",
    "            metadata_str = line\n",
    "            fp.close()\n",
    "            break\n",
    "           \n",
    "    # meta data starts with '# ' and ends with a new line sign\n",
    "    metadata_str = metadata_str[2 : -1]\n",
    "    # the meta data format is consistent with the Python dictionary\n",
    "    metadata_dict = ast.literal_eval(metadata_str)\n",
    "    \n",
    "    # HACK: the acquired dictionary is nested but has only one key on the first level\n",
    "    key_name = list(metadata_dict)[0]\n",
    "    \n",
    "    time_str = metadata_dict[key_name]['time']\n",
    "    date_str = metadata_dict[key_name]['date']\n",
    "    datetime_str = date_str + \",\" + time_str\n",
    "    \n",
    "    return time.mktime(datetime.strptime(datetime_str, \"%Y-%m-%d,%H:%M:%S.%f\").timetuple())"
   ]
  },
  {
   "cell_type": "code",
   "execution_count": 16,
   "metadata": {},
   "outputs": [],
   "source": [
    "BITALINO_start_times = { file_name[:4] : extract_start_time(file_name, RAW_DATA_SOURCE_DIR) for index, file_name in enumerate(RAW_DATA_SAMPLE_FILES) }"
   ]
  },
  {
   "cell_type": "markdown",
   "metadata": {},
   "source": [
    "### 4.4.2. Adding timestamp column"
   ]
  },
  {
   "cell_type": "code",
   "execution_count": 17,
   "metadata": {},
   "outputs": [
    {
     "name": "stdout",
     "output_type": "stream",
     "text": [
      "dict_keys(['9744', '9899', '9926', '9937', '9952'])\n",
      "dict_keys(['9744', '9899', '9926', '9937', '9952'])\n"
     ]
    }
   ],
   "source": [
    "# Available keys\n",
    "print(BITALINO_data.keys())\n",
    "print(BITALINO_start_times.keys())"
   ]
  },
  {
   "cell_type": "code",
   "execution_count": 19,
   "metadata": {},
   "outputs": [],
   "source": [
    "for key, data in BITALINO_data.items():\n",
    "    start_timestamp = BITALINO_start_times[key]\n",
    "    data[\"TIMESTAMP\"] = start_timestamp + data.index"
   ]
  },
  {
   "cell_type": "code",
   "execution_count": 21,
   "metadata": {},
   "outputs": [
    {
     "name": "stdout",
     "output_type": "stream",
     "text": [
      "<class 'pandas.core.frame.DataFrame'>\n",
      "RangeIndex: 4221000 entries, 0 to 4220999\n",
      "Data columns (total 3 columns):\n",
      "EKG          int64\n",
      "GSR          int64\n",
      "TIMESTAMP    float64\n",
      "dtypes: float64(1), int64(2)\n",
      "memory usage: 96.6 MB\n"
     ]
    }
   ],
   "source": [
    "BITALINO_data['9744'].info()"
   ]
  },
  {
   "cell_type": "code",
   "execution_count": 25,
   "metadata": {},
   "outputs": [
    {
     "data": {
      "text/html": [
       "<div>\n",
       "<style scoped>\n",
       "    .dataframe tbody tr th:only-of-type {\n",
       "        vertical-align: middle;\n",
       "    }\n",
       "\n",
       "    .dataframe tbody tr th {\n",
       "        vertical-align: top;\n",
       "    }\n",
       "\n",
       "    .dataframe thead th {\n",
       "        text-align: right;\n",
       "    }\n",
       "</style>\n",
       "<table border=\"1\" class=\"dataframe\">\n",
       "  <thead>\n",
       "    <tr style=\"text-align: right;\">\n",
       "      <th></th>\n",
       "      <th>EKG</th>\n",
       "      <th>GSR</th>\n",
       "      <th>TIMESTAMP</th>\n",
       "    </tr>\n",
       "  </thead>\n",
       "  <tbody>\n",
       "    <tr>\n",
       "      <th>0</th>\n",
       "      <td>506</td>\n",
       "      <td>317</td>\n",
       "      <td>1.554815e+09</td>\n",
       "    </tr>\n",
       "    <tr>\n",
       "      <th>1</th>\n",
       "      <td>506</td>\n",
       "      <td>317</td>\n",
       "      <td>1.554815e+09</td>\n",
       "    </tr>\n",
       "    <tr>\n",
       "      <th>2</th>\n",
       "      <td>504</td>\n",
       "      <td>317</td>\n",
       "      <td>1.554815e+09</td>\n",
       "    </tr>\n",
       "    <tr>\n",
       "      <th>3</th>\n",
       "      <td>504</td>\n",
       "      <td>317</td>\n",
       "      <td>1.554815e+09</td>\n",
       "    </tr>\n",
       "    <tr>\n",
       "      <th>4</th>\n",
       "      <td>504</td>\n",
       "      <td>317</td>\n",
       "      <td>1.554815e+09</td>\n",
       "    </tr>\n",
       "  </tbody>\n",
       "</table>\n",
       "</div>"
      ],
      "text/plain": [
       "   EKG  GSR     TIMESTAMP\n",
       "0  506  317  1.554815e+09\n",
       "1  506  317  1.554815e+09\n",
       "2  504  317  1.554815e+09\n",
       "3  504  317  1.554815e+09\n",
       "4  504  317  1.554815e+09"
      ]
     },
     "execution_count": 25,
     "metadata": {},
     "output_type": "execute_result"
    }
   ],
   "source": [
    "BITALINO_data['9744'].head()"
   ]
  },
  {
   "cell_type": "code",
   "execution_count": 18,
   "metadata": {},
   "outputs": [],
   "source": [
    "x = list(range(SAMPLING_RATE))\n",
    "y = list(EXAMPLE_bitalino_data['9744'].head(SAMPLING_RATE)[\"EKG\"])"
   ]
  },
  {
   "cell_type": "code",
   "execution_count": 19,
   "metadata": {},
   "outputs": [
    {
     "data": {
      "image/png": "[encoded data removed]",
      "text/plain": [
       "<Figure size 432x288 with 1 Axes>"
      ]
     },
     "metadata": {
      "needs_background": "light"
     },
     "output_type": "display_data"
    }
   ],
   "source": [
    "fig, ax = plt.subplots()\n",
    "ax.plot(x, y)\n",
    "\n",
    "ax.set(xlabel='time (s)', ylabel='EKG',\n",
    "       title='EKG')\n",
    "ax.grid()\n",
    "plt.show()"
   ]
  },
  {
   "cell_type": "code",
   "execution_count": 20,
   "metadata": {},
   "outputs": [],
   "source": [
    "x = list(range(SAMPLING_RATE))\n",
    "y = list(EXAMPLE_bitalino_data['9744'].head(SAMPLING_RATE)[\"GSR\"])"
   ]
  },
  {
   "cell_type": "code",
   "execution_count": 21,
   "metadata": {},
   "outputs": [
    {
     "data": {
      "image/png": "[encoded data removed]",
      "text/plain": [
       "<Figure size 432x288 with 1 Axes>"
      ]
     },
     "metadata": {
      "needs_background": "light"
     },
     "output_type": "display_data"
    }
   ],
   "source": [
    "fig, ax = plt.subplots()\n",
    "ax.plot(x, y)\n",
    "\n",
    "ax.set(xlabel='time (s)', ylabel='GSR',\n",
    "       title='GSR')\n",
    "ax.grid()\n",
    "plt.show()"
   ]
  },
  {
   "cell_type": "code",
   "execution_count": null,
   "metadata": {},
   "outputs": [],
   "source": []
  }
 ],
 "metadata": {
  "kernelspec": {
   "display_name": "Python 3",
   "language": "python",
   "name": "python3"
  },
  "language_info": {
   "codemirror_mode": {
    "name": "ipython",
    "version": 3
   },
   "file_extension": ".py",
   "mimetype": "text/x-python",
   "name": "python",
   "nbconvert_exporter": "python",
   "pygments_lexer": "ipython3",
   "version": "3.6.7"
  }
 },
 "nbformat": 4,
 "nbformat_minor": 2
}
